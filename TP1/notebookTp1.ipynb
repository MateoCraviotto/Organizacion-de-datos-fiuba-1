{
 "cells": [
  {
   "cell_type": "markdown",
   "metadata": {},
   "source": [
    "# Trabajo Práctico 1: Análisis Exploratorio - Organización de Datos"
   ]
  },
  {
   "cell_type": "markdown",
   "metadata": {},
   "source": [
    "**Alumnos y Padrón**\n",
    "+ Craviotto Roitbarg, Mateo Exequiel - 106255 \n",
    "+ Gómez, Joaquín - 103735\n",
    "\n",
    "https://github.com/joaqogomez/Organizacion-de-datos-fiuba\n"
   ]
  },
  {
   "cell_type": "markdown",
   "metadata": {},
   "source": [
    "## Introducción\n",
    "\n",
    "En el presente trabajo se propone realizar un análisis de los datos recolectados por una agencia sobre las personas que pagan los impuestos.\n",
    "El objetivo de la agencia es utilizar la información recolectada para dirigir campañas y poder dirigir a los fiuagentes recaudadores a inspeccionar.\n"
   ]
  },
  {
   "cell_type": "markdown",
   "metadata": {},
   "source": [
    "## Objetivos\n",
    "Los objetivos de este notebook es:\n",
    "- Entender los datos.\n",
    "- Ver como se relacionan entre si.\n",
    "- Poder sacar alguna conclusión o descubrir un patrón.\n",
    "- Indicar cuáles son los factores más importantes que determinan si una persona tiene altos o bajos ingresos. \n",
    "- Armar un baseline."
   ]
  },
  {
   "cell_type": "markdown",
   "metadata": {},
   "source": [
    "## Configuraciones Iniciales\n",
    "Primero, importamos las bibliotecas que vamos a utilizar:"
   ]
  },
  {
   "cell_type": "code",
   "execution_count": 388,
   "metadata": {},
   "outputs": [],
   "source": [
    "import numpy as np\n",
    "import pandas as pd\n",
    "import requests\n",
    "import matplotlib.pyplot as plt\n",
    "import seaborn as sns"
   ]
  },
  {
   "cell_type": "markdown",
   "metadata": {},
   "source": [
    "## Carga del set de datos\n",
    "Cargamos el dataset:"
   ]
  },
  {
   "cell_type": "code",
   "execution_count": 389,
   "metadata": {},
   "outputs": [],
   "source": [
    "with requests.get(\n",
    "    \"https://docs.google.com/spreadsheets/d/1-DWTP8uwVS-dZY402-dm0F9ICw_6PNqDGLmH0u8Eqa0/export?format=csv\"\n",
    ") as r, open(\"Dataset/impuestos.csv\", \"wb\") as f:\n",
    "    for chunk in r.iter_content():\n",
    "        f.write(chunk)\n",
    "df = pd.read_csv(\"Dataset/impuestos.csv\")"
   ]
  },
  {
   "cell_type": "markdown",
   "metadata": {},
   "source": [
    "## Limpieza del set de datos"
   ]
  },
  {
   "cell_type": "markdown",
   "metadata": {},
   "source": [
    "Despues de cargar el dataset, chequeamos que campos tenemos y si tienen valores NULL."
   ]
  },
  {
   "cell_type": "code",
   "execution_count": 390,
   "metadata": {},
   "outputs": [
    {
     "name": "stdout",
     "output_type": "stream",
     "text": [
      "<class 'pandas.core.frame.DataFrame'>\n",
      "RangeIndex: 32561 entries, 0 to 32560\n",
      "Data columns (total 13 columns):\n",
      " #   Column                                      Non-Null Count  Dtype \n",
      "---  ------                                      --------------  ----- \n",
      " 0   anios_estudiados                            32561 non-null  int64 \n",
      " 1   barrio                                      31978 non-null  object\n",
      " 2   categoria_de_trabajo                        30725 non-null  object\n",
      " 3   edad                                        32561 non-null  int64 \n",
      " 4   educacion_alcanzada                         32561 non-null  object\n",
      " 5   estado_marital                              32561 non-null  object\n",
      " 6   ganancia_perdida_declarada_bolsa_argentina  32561 non-null  int64 \n",
      " 7   genero                                      32561 non-null  object\n",
      " 8   horas_trabajo_registradas                   32561 non-null  int64 \n",
      " 9   religion                                    32561 non-null  object\n",
      " 10  rol_familiar_registrado                     32561 non-null  object\n",
      " 11  tiene_alto_valor_adquisitivo                32561 non-null  int64 \n",
      " 12  trabajo                                     30718 non-null  object\n",
      "dtypes: int64(5), object(8)\n",
      "memory usage: 3.2+ MB\n"
     ]
    }
   ],
   "source": [
    "df.info()"
   ]
  },
  {
   "cell_type": "markdown",
   "metadata": {},
   "source": [
    "Se observa que tenemos valores null en las columnas barrio, categoria_de_trabajo y trabajo."
   ]
  },
  {
   "cell_type": "code",
   "execution_count": 391,
   "metadata": {},
   "outputs": [
    {
     "data": {
      "text/plain": [
       "0    24720\n",
       "1     7841\n",
       "Name: tiene_alto_valor_adquisitivo, dtype: int64"
      ]
     },
     "execution_count": 391,
     "metadata": {},
     "output_type": "execute_result"
    }
   ],
   "source": [
    "#Verificamos que nuestra variable target, en este caso tiene_alto_valor_adquisitivo no tenga valores invalidos\n",
    "df.tiene_alto_valor_adquisitivo.value_counts()\n",
    "#Se puede ver que solo tiene dos valores disponibles que son 0 y 1 como necesitamos"
   ]
  },
  {
   "cell_type": "code",
   "execution_count": 392,
   "metadata": {},
   "outputs": [
    {
     "data": {
      "text/plain": [
       "profesional_especializado    4140\n",
       "reparador                    4099\n",
       "directivo_gerente            4066\n",
       "entretenimiento              3770\n",
       "ventas                       3650\n",
       "otros                        3295\n",
       "inspector                    2002\n",
       "transporte                   1597\n",
       "limpiador                    1370\n",
       "sector_primario               994\n",
       "soporte_tecnico               928\n",
       "seguridad                     649\n",
       "servicio_domestico            149\n",
       "ejercito                        9\n",
       "Name: trabajo, dtype: int64"
      ]
     },
     "execution_count": 392,
     "metadata": {},
     "output_type": "execute_result"
    }
   ],
   "source": [
    "df.trabajo.value_counts()"
   ]
  },
  {
   "cell_type": "code",
   "execution_count": 393,
   "metadata": {},
   "outputs": [
    {
     "data": {
      "text/plain": [
       "relacion_de_dependencia    22696\n",
       "monotibutista               2541\n",
       "empleado_municipal          2093\n",
       "empleado_provincial         1298\n",
       "responsable_inscripto       1116\n",
       "empleadao_estatal            960\n",
       "trabajo_voluntariado          14\n",
       "sin_trabajo                    7\n",
       "Name: categoria_de_trabajo, dtype: int64"
      ]
     },
     "execution_count": 393,
     "metadata": {},
     "output_type": "execute_result"
    }
   ],
   "source": [
    "df.categoria_de_trabajo.value_counts()"
   ]
  },
  {
   "cell_type": "code",
   "execution_count": 394,
   "metadata": {},
   "outputs": [
    {
     "data": {
      "text/plain": [
       "Palermo                29170\n",
       "Belgrano                 643\n",
       "San Isidro               198\n",
       "Villa Urquiza            137\n",
       "Recoleta                 121\n",
       "La Boca                  114\n",
       "Agronomia                106\n",
       "Almagro                  100\n",
       "Balvanera                 95\n",
       "Puerto Madero             90\n",
       "Caballito                 81\n",
       "Boedo                     80\n",
       "Barracas                  75\n",
       "Chacarita                 73\n",
       "Coghland                  70\n",
       "Floresta                  67\n",
       "Constitucion              64\n",
       "Colegiales                62\n",
       "Flores                    60\n",
       "Liniers                   59\n",
       "Monte Castro              51\n",
       "Mataderos                 44\n",
       "Nueva Pompeya             43\n",
       "Monserrat                 37\n",
       "nuñez                     34\n",
       "Parque Chacabuco          31\n",
       "Parque Avellaneda         29\n",
       "Villa Luro                29\n",
       "Parque Chas               28\n",
       "La Paternal               24\n",
       "Retiro                    20\n",
       "Villa Devoto              19\n",
       "Villa Soldati             19\n",
       "Villa Real                18\n",
       "San Telmo                 18\n",
       "Santa Rita                16\n",
       "Villa General Mitre       14\n",
       "Velez Sarsfield           13\n",
       "Versalles                 13\n",
       "Villa Pueyrredon          12\n",
       "Cilla Riachuelo            1\n",
       "Name: barrio, dtype: int64"
      ]
     },
     "execution_count": 394,
     "metadata": {},
     "output_type": "execute_result"
    }
   ],
   "source": [
    "df.barrio.value_counts()"
   ]
  },
  {
   "cell_type": "code",
   "execution_count": 395,
   "metadata": {},
   "outputs": [
    {
     "data": {
      "text/plain": [
       "4_anio                10501\n",
       "5_anio                 7291\n",
       "universidad_3_anio     5355\n",
       "universidad_4_anio     1723\n",
       "universidad_1_anio     1382\n",
       "2_anio                 1175\n",
       "universidad_2_anio     1067\n",
       "1_anio                  933\n",
       "7-8_grado               646\n",
       "universiada_5_anio      576\n",
       "9_grado                 514\n",
       "3_anio                  433\n",
       "universiada_6_anio      413\n",
       "5-6_grado               333\n",
       "1-4_grado               168\n",
       "preescolar               51\n",
       "Name: educacion_alcanzada, dtype: int64"
      ]
     },
     "execution_count": 395,
     "metadata": {},
     "output_type": "execute_result"
    }
   ],
   "source": [
    "df.educacion_alcanzada.value_counts()\n"
   ]
  },
  {
   "cell_type": "code",
   "execution_count": 396,
   "metadata": {},
   "outputs": [
    {
     "data": {
      "text/html": [
       "<div>\n",
       "<style scoped>\n",
       "    .dataframe tbody tr th:only-of-type {\n",
       "        vertical-align: middle;\n",
       "    }\n",
       "\n",
       "    .dataframe tbody tr th {\n",
       "        vertical-align: top;\n",
       "    }\n",
       "\n",
       "    .dataframe thead th {\n",
       "        text-align: right;\n",
       "    }\n",
       "</style>\n",
       "<table border=\"1\" class=\"dataframe\">\n",
       "  <thead>\n",
       "    <tr style=\"text-align: right;\">\n",
       "      <th></th>\n",
       "      <th>anios_estudiados</th>\n",
       "      <th>barrio</th>\n",
       "      <th>categoria_de_trabajo</th>\n",
       "      <th>edad</th>\n",
       "      <th>educacion_alcanzada</th>\n",
       "      <th>estado_marital</th>\n",
       "      <th>ganancia_perdida_declarada_bolsa_argentina</th>\n",
       "      <th>genero</th>\n",
       "      <th>horas_trabajo_registradas</th>\n",
       "      <th>religion</th>\n",
       "      <th>rol_familiar_registrado</th>\n",
       "      <th>tiene_alto_valor_adquisitivo</th>\n",
       "      <th>trabajo</th>\n",
       "    </tr>\n",
       "  </thead>\n",
       "  <tbody>\n",
       "    <tr>\n",
       "      <th>1676</th>\n",
       "      <td>13</td>\n",
       "      <td>NaN</td>\n",
       "      <td>NaN</td>\n",
       "      <td>64</td>\n",
       "      <td>4_anio</td>\n",
       "      <td>matrimonio_civil</td>\n",
       "      <td>0</td>\n",
       "      <td>hombre</td>\n",
       "      <td>40</td>\n",
       "      <td>cristianismo</td>\n",
       "      <td>casado</td>\n",
       "      <td>1</td>\n",
       "      <td>NaN</td>\n",
       "    </tr>\n",
       "    <tr>\n",
       "      <th>18615</th>\n",
       "      <td>17</td>\n",
       "      <td>NaN</td>\n",
       "      <td>NaN</td>\n",
       "      <td>27</td>\n",
       "      <td>universidad_3_anio</td>\n",
       "      <td>matrimonio_civil</td>\n",
       "      <td>0</td>\n",
       "      <td>mujer</td>\n",
       "      <td>35</td>\n",
       "      <td>judaismo</td>\n",
       "      <td>casada</td>\n",
       "      <td>1</td>\n",
       "      <td>NaN</td>\n",
       "    </tr>\n",
       "    <tr>\n",
       "      <th>25359</th>\n",
       "      <td>17</td>\n",
       "      <td>NaN</td>\n",
       "      <td>NaN</td>\n",
       "      <td>38</td>\n",
       "      <td>universidad_3_anio</td>\n",
       "      <td>matrimonio_civil</td>\n",
       "      <td>7688</td>\n",
       "      <td>mujer</td>\n",
       "      <td>50</td>\n",
       "      <td>otro</td>\n",
       "      <td>casada</td>\n",
       "      <td>1</td>\n",
       "      <td>NaN</td>\n",
       "    </tr>\n",
       "    <tr>\n",
       "      <th>26363</th>\n",
       "      <td>14</td>\n",
       "      <td>NaN</td>\n",
       "      <td>NaN</td>\n",
       "      <td>48</td>\n",
       "      <td>5_anio</td>\n",
       "      <td>matrimonio_civil</td>\n",
       "      <td>0</td>\n",
       "      <td>hombre</td>\n",
       "      <td>40</td>\n",
       "      <td>cristianismo</td>\n",
       "      <td>casado</td>\n",
       "      <td>1</td>\n",
       "      <td>NaN</td>\n",
       "    </tr>\n",
       "  </tbody>\n",
       "</table>\n",
       "</div>"
      ],
      "text/plain": [
       "       anios_estudiados barrio categoria_de_trabajo  edad educacion_alcanzada  \\\n",
       "1676                 13    NaN                  NaN    64              4_anio   \n",
       "18615                17    NaN                  NaN    27  universidad_3_anio   \n",
       "25359                17    NaN                  NaN    38  universidad_3_anio   \n",
       "26363                14    NaN                  NaN    48              5_anio   \n",
       "\n",
       "         estado_marital  ganancia_perdida_declarada_bolsa_argentina  genero  \\\n",
       "1676   matrimonio_civil                                           0  hombre   \n",
       "18615  matrimonio_civil                                           0   mujer   \n",
       "25359  matrimonio_civil                                        7688   mujer   \n",
       "26363  matrimonio_civil                                           0  hombre   \n",
       "\n",
       "       horas_trabajo_registradas      religion rol_familiar_registrado  \\\n",
       "1676                          40  cristianismo                  casado   \n",
       "18615                         35      judaismo                  casada   \n",
       "25359                         50          otro                  casada   \n",
       "26363                         40  cristianismo                  casado   \n",
       "\n",
       "       tiene_alto_valor_adquisitivo trabajo  \n",
       "1676                              1     NaN  \n",
       "18615                             1     NaN  \n",
       "25359                             1     NaN  \n",
       "26363                             1     NaN  "
      ]
     },
     "execution_count": 396,
     "metadata": {},
     "output_type": "execute_result"
    }
   ],
   "source": [
    "df[df['barrio'].isna() & df['trabajo'].isna() &df['tiene_alto_valor_adquisitivo'] == 1]"
   ]
  },
  {
   "cell_type": "code",
   "execution_count": 397,
   "metadata": {
    "scrolled": true
   },
   "outputs": [
    {
     "data": {
      "text/html": [
       "<div>\n",
       "<style scoped>\n",
       "    .dataframe tbody tr th:only-of-type {\n",
       "        vertical-align: middle;\n",
       "    }\n",
       "\n",
       "    .dataframe tbody tr th {\n",
       "        vertical-align: top;\n",
       "    }\n",
       "\n",
       "    .dataframe thead th {\n",
       "        text-align: right;\n",
       "    }\n",
       "</style>\n",
       "<table border=\"1\" class=\"dataframe\">\n",
       "  <thead>\n",
       "    <tr style=\"text-align: right;\">\n",
       "      <th></th>\n",
       "      <th>anios_estudiados</th>\n",
       "      <th>barrio</th>\n",
       "      <th>categoria_de_trabajo</th>\n",
       "      <th>edad</th>\n",
       "      <th>educacion_alcanzada</th>\n",
       "      <th>estado_marital</th>\n",
       "      <th>ganancia_perdida_declarada_bolsa_argentina</th>\n",
       "      <th>genero</th>\n",
       "      <th>horas_trabajo_registradas</th>\n",
       "      <th>religion</th>\n",
       "      <th>rol_familiar_registrado</th>\n",
       "      <th>tiene_alto_valor_adquisitivo</th>\n",
       "      <th>trabajo</th>\n",
       "    </tr>\n",
       "  </thead>\n",
       "  <tbody>\n",
       "    <tr>\n",
       "      <th>106</th>\n",
       "      <td>10</td>\n",
       "      <td>Palermo</td>\n",
       "      <td>NaN</td>\n",
       "      <td>17</td>\n",
       "      <td>1_anio</td>\n",
       "      <td>sin_matrimonio</td>\n",
       "      <td>34095</td>\n",
       "      <td>mujer</td>\n",
       "      <td>32</td>\n",
       "      <td>cristianismo</td>\n",
       "      <td>con_hijos</td>\n",
       "      <td>0</td>\n",
       "      <td>NaN</td>\n",
       "    </tr>\n",
       "    <tr>\n",
       "      <th>297</th>\n",
       "      <td>18</td>\n",
       "      <td>NaN</td>\n",
       "      <td>NaN</td>\n",
       "      <td>39</td>\n",
       "      <td>universidad_4_anio</td>\n",
       "      <td>matrimonio_civil</td>\n",
       "      <td>3464</td>\n",
       "      <td>mujer</td>\n",
       "      <td>40</td>\n",
       "      <td>budismo</td>\n",
       "      <td>casada</td>\n",
       "      <td>0</td>\n",
       "      <td>NaN</td>\n",
       "    </tr>\n",
       "    <tr>\n",
       "      <th>408</th>\n",
       "      <td>14</td>\n",
       "      <td>Palermo</td>\n",
       "      <td>NaN</td>\n",
       "      <td>28</td>\n",
       "      <td>5_anio</td>\n",
       "      <td>matrimonio_civil</td>\n",
       "      <td>-1887</td>\n",
       "      <td>mujer</td>\n",
       "      <td>40</td>\n",
       "      <td>cristianismo</td>\n",
       "      <td>casada</td>\n",
       "      <td>1</td>\n",
       "      <td>NaN</td>\n",
       "    </tr>\n",
       "    <tr>\n",
       "      <th>484</th>\n",
       "      <td>12</td>\n",
       "      <td>Palermo</td>\n",
       "      <td>NaN</td>\n",
       "      <td>52</td>\n",
       "      <td>3_anio</td>\n",
       "      <td>sin_matrimonio</td>\n",
       "      <td>594</td>\n",
       "      <td>hombre</td>\n",
       "      <td>40</td>\n",
       "      <td>judaismo</td>\n",
       "      <td>otro</td>\n",
       "      <td>0</td>\n",
       "      <td>NaN</td>\n",
       "    </tr>\n",
       "    <tr>\n",
       "      <th>656</th>\n",
       "      <td>9</td>\n",
       "      <td>Palermo</td>\n",
       "      <td>NaN</td>\n",
       "      <td>70</td>\n",
       "      <td>9_grado</td>\n",
       "      <td>viudo_a</td>\n",
       "      <td>1111</td>\n",
       "      <td>mujer</td>\n",
       "      <td>15</td>\n",
       "      <td>cristianismo</td>\n",
       "      <td>soltero_a</td>\n",
       "      <td>0</td>\n",
       "      <td>NaN</td>\n",
       "    </tr>\n",
       "    <tr>\n",
       "      <th>...</th>\n",
       "      <td>...</td>\n",
       "      <td>...</td>\n",
       "      <td>...</td>\n",
       "      <td>...</td>\n",
       "      <td>...</td>\n",
       "      <td>...</td>\n",
       "      <td>...</td>\n",
       "      <td>...</td>\n",
       "      <td>...</td>\n",
       "      <td>...</td>\n",
       "      <td>...</td>\n",
       "      <td>...</td>\n",
       "      <td>...</td>\n",
       "    </tr>\n",
       "    <tr>\n",
       "      <th>30628</th>\n",
       "      <td>17</td>\n",
       "      <td>Palermo</td>\n",
       "      <td>NaN</td>\n",
       "      <td>65</td>\n",
       "      <td>universidad_3_anio</td>\n",
       "      <td>matrimonio_civil</td>\n",
       "      <td>5556</td>\n",
       "      <td>hombre</td>\n",
       "      <td>48</td>\n",
       "      <td>cristianismo</td>\n",
       "      <td>casado</td>\n",
       "      <td>1</td>\n",
       "      <td>NaN</td>\n",
       "    </tr>\n",
       "    <tr>\n",
       "      <th>30781</th>\n",
       "      <td>14</td>\n",
       "      <td>Palermo</td>\n",
       "      <td>NaN</td>\n",
       "      <td>66</td>\n",
       "      <td>5_anio</td>\n",
       "      <td>viudo_a</td>\n",
       "      <td>-4356</td>\n",
       "      <td>mujer</td>\n",
       "      <td>40</td>\n",
       "      <td>judaismo</td>\n",
       "      <td>soltero_a</td>\n",
       "      <td>0</td>\n",
       "      <td>NaN</td>\n",
       "    </tr>\n",
       "    <tr>\n",
       "      <th>31062</th>\n",
       "      <td>13</td>\n",
       "      <td>Palermo</td>\n",
       "      <td>NaN</td>\n",
       "      <td>59</td>\n",
       "      <td>4_anio</td>\n",
       "      <td>matrimonio_civil</td>\n",
       "      <td>2407</td>\n",
       "      <td>hombre</td>\n",
       "      <td>60</td>\n",
       "      <td>cristianismo</td>\n",
       "      <td>casado</td>\n",
       "      <td>0</td>\n",
       "      <td>NaN</td>\n",
       "    </tr>\n",
       "    <tr>\n",
       "      <th>31605</th>\n",
       "      <td>12</td>\n",
       "      <td>Palermo</td>\n",
       "      <td>NaN</td>\n",
       "      <td>20</td>\n",
       "      <td>3_anio</td>\n",
       "      <td>sin_matrimonio</td>\n",
       "      <td>-1602</td>\n",
       "      <td>hombre</td>\n",
       "      <td>40</td>\n",
       "      <td>otro</td>\n",
       "      <td>sin_familia</td>\n",
       "      <td>0</td>\n",
       "      <td>NaN</td>\n",
       "    </tr>\n",
       "    <tr>\n",
       "      <th>31633</th>\n",
       "      <td>17</td>\n",
       "      <td>Palermo</td>\n",
       "      <td>NaN</td>\n",
       "      <td>26</td>\n",
       "      <td>universidad_3_anio</td>\n",
       "      <td>matrimonio_civil</td>\n",
       "      <td>-1977</td>\n",
       "      <td>mujer</td>\n",
       "      <td>40</td>\n",
       "      <td>cristianismo</td>\n",
       "      <td>casada</td>\n",
       "      <td>1</td>\n",
       "      <td>NaN</td>\n",
       "    </tr>\n",
       "  </tbody>\n",
       "</table>\n",
       "<p>181 rows × 13 columns</p>\n",
       "</div>"
      ],
      "text/plain": [
       "       anios_estudiados   barrio categoria_de_trabajo  edad  \\\n",
       "106                  10  Palermo                  NaN    17   \n",
       "297                  18      NaN                  NaN    39   \n",
       "408                  14  Palermo                  NaN    28   \n",
       "484                  12  Palermo                  NaN    52   \n",
       "656                   9  Palermo                  NaN    70   \n",
       "...                 ...      ...                  ...   ...   \n",
       "30628                17  Palermo                  NaN    65   \n",
       "30781                14  Palermo                  NaN    66   \n",
       "31062                13  Palermo                  NaN    59   \n",
       "31605                12  Palermo                  NaN    20   \n",
       "31633                17  Palermo                  NaN    26   \n",
       "\n",
       "      educacion_alcanzada    estado_marital  \\\n",
       "106                1_anio    sin_matrimonio   \n",
       "297    universidad_4_anio  matrimonio_civil   \n",
       "408                5_anio  matrimonio_civil   \n",
       "484                3_anio    sin_matrimonio   \n",
       "656               9_grado           viudo_a   \n",
       "...                   ...               ...   \n",
       "30628  universidad_3_anio  matrimonio_civil   \n",
       "30781              5_anio           viudo_a   \n",
       "31062              4_anio  matrimonio_civil   \n",
       "31605              3_anio    sin_matrimonio   \n",
       "31633  universidad_3_anio  matrimonio_civil   \n",
       "\n",
       "       ganancia_perdida_declarada_bolsa_argentina  genero  \\\n",
       "106                                         34095   mujer   \n",
       "297                                          3464   mujer   \n",
       "408                                         -1887   mujer   \n",
       "484                                           594  hombre   \n",
       "656                                          1111   mujer   \n",
       "...                                           ...     ...   \n",
       "30628                                        5556  hombre   \n",
       "30781                                       -4356   mujer   \n",
       "31062                                        2407  hombre   \n",
       "31605                                       -1602  hombre   \n",
       "31633                                       -1977   mujer   \n",
       "\n",
       "       horas_trabajo_registradas      religion rol_familiar_registrado  \\\n",
       "106                           32  cristianismo               con_hijos   \n",
       "297                           40       budismo                  casada   \n",
       "408                           40  cristianismo                  casada   \n",
       "484                           40      judaismo                    otro   \n",
       "656                           15  cristianismo               soltero_a   \n",
       "...                          ...           ...                     ...   \n",
       "30628                         48  cristianismo                  casado   \n",
       "30781                         40      judaismo               soltero_a   \n",
       "31062                         60  cristianismo                  casado   \n",
       "31605                         40          otro             sin_familia   \n",
       "31633                         40  cristianismo                  casada   \n",
       "\n",
       "       tiene_alto_valor_adquisitivo trabajo  \n",
       "106                               0     NaN  \n",
       "297                               0     NaN  \n",
       "408                               1     NaN  \n",
       "484                               0     NaN  \n",
       "656                               0     NaN  \n",
       "...                             ...     ...  \n",
       "30628                             1     NaN  \n",
       "30781                             0     NaN  \n",
       "31062                             0     NaN  \n",
       "31605                             0     NaN  \n",
       "31633                             1     NaN  \n",
       "\n",
       "[181 rows x 13 columns]"
      ]
     },
     "execution_count": 397,
     "metadata": {},
     "output_type": "execute_result"
    }
   ],
   "source": [
    "df[(df['ganancia_perdida_declarada_bolsa_argentina'] != 0) & df['categoria_de_trabajo'].isna()]\n"
   ]
  },
  {
   "cell_type": "markdown",
   "metadata": {},
   "source": [
    "Observemos la cantidad de valores nulos para cada feature. Hay valores nulos en las columas 'barrio', 'categoria_de_trabajo' y 'trabajo'."
   ]
  },
  {
   "cell_type": "code",
   "execution_count": 398,
   "metadata": {
    "scrolled": true
   },
   "outputs": [
    {
     "data": {
      "text/plain": [
       "anios_estudiados                                 0\n",
       "barrio                                         583\n",
       "categoria_de_trabajo                          1836\n",
       "edad                                             0\n",
       "educacion_alcanzada                              0\n",
       "estado_marital                                   0\n",
       "ganancia_perdida_declarada_bolsa_argentina       0\n",
       "genero                                           0\n",
       "horas_trabajo_registradas                        0\n",
       "religion                                         0\n",
       "rol_familiar_registrado                          0\n",
       "tiene_alto_valor_adquisitivo                     0\n",
       "trabajo                                       1843\n",
       "dtype: int64"
      ]
     },
     "execution_count": 398,
     "metadata": {},
     "output_type": "execute_result"
    }
   ],
   "source": [
    "df.isnull().sum()"
   ]
  },
  {
   "cell_type": "markdown",
   "metadata": {},
   "source": [
    "Y estos serían los porcentajes de valores nulos para cada feature:"
   ]
  },
  {
   "cell_type": "code",
   "execution_count": 399,
   "metadata": {},
   "outputs": [
    {
     "data": {
      "text/html": [
       "<div>\n",
       "<style scoped>\n",
       "    .dataframe tbody tr th:only-of-type {\n",
       "        vertical-align: middle;\n",
       "    }\n",
       "\n",
       "    .dataframe tbody tr th {\n",
       "        vertical-align: top;\n",
       "    }\n",
       "\n",
       "    .dataframe thead th {\n",
       "        text-align: right;\n",
       "    }\n",
       "</style>\n",
       "<table border=\"1\" class=\"dataframe\">\n",
       "  <thead>\n",
       "    <tr style=\"text-align: right;\">\n",
       "      <th></th>\n",
       "      <th>porcentaje nulls</th>\n",
       "    </tr>\n",
       "  </thead>\n",
       "  <tbody>\n",
       "    <tr>\n",
       "      <th>anios_estudiados</th>\n",
       "      <td>0.000000</td>\n",
       "    </tr>\n",
       "    <tr>\n",
       "      <th>barrio</th>\n",
       "      <td>1.790486</td>\n",
       "    </tr>\n",
       "    <tr>\n",
       "      <th>categoria_de_trabajo</th>\n",
       "      <td>5.638647</td>\n",
       "    </tr>\n",
       "    <tr>\n",
       "      <th>edad</th>\n",
       "      <td>0.000000</td>\n",
       "    </tr>\n",
       "    <tr>\n",
       "      <th>educacion_alcanzada</th>\n",
       "      <td>0.000000</td>\n",
       "    </tr>\n",
       "    <tr>\n",
       "      <th>estado_marital</th>\n",
       "      <td>0.000000</td>\n",
       "    </tr>\n",
       "    <tr>\n",
       "      <th>ganancia_perdida_declarada_bolsa_argentina</th>\n",
       "      <td>0.000000</td>\n",
       "    </tr>\n",
       "    <tr>\n",
       "      <th>genero</th>\n",
       "      <td>0.000000</td>\n",
       "    </tr>\n",
       "    <tr>\n",
       "      <th>horas_trabajo_registradas</th>\n",
       "      <td>0.000000</td>\n",
       "    </tr>\n",
       "    <tr>\n",
       "      <th>religion</th>\n",
       "      <td>0.000000</td>\n",
       "    </tr>\n",
       "    <tr>\n",
       "      <th>rol_familiar_registrado</th>\n",
       "      <td>0.000000</td>\n",
       "    </tr>\n",
       "    <tr>\n",
       "      <th>tiene_alto_valor_adquisitivo</th>\n",
       "      <td>0.000000</td>\n",
       "    </tr>\n",
       "    <tr>\n",
       "      <th>trabajo</th>\n",
       "      <td>5.660146</td>\n",
       "    </tr>\n",
       "  </tbody>\n",
       "</table>\n",
       "</div>"
      ],
      "text/plain": [
       "                                            porcentaje nulls\n",
       "anios_estudiados                                    0.000000\n",
       "barrio                                              1.790486\n",
       "categoria_de_trabajo                                5.638647\n",
       "edad                                                0.000000\n",
       "educacion_alcanzada                                 0.000000\n",
       "estado_marital                                      0.000000\n",
       "ganancia_perdida_declarada_bolsa_argentina          0.000000\n",
       "genero                                              0.000000\n",
       "horas_trabajo_registradas                           0.000000\n",
       "religion                                            0.000000\n",
       "rol_familiar_registrado                             0.000000\n",
       "tiene_alto_valor_adquisitivo                        0.000000\n",
       "trabajo                                             5.660146"
      ]
     },
     "execution_count": 399,
     "metadata": {},
     "output_type": "execute_result"
    }
   ],
   "source": [
    "(df.isnull().mean() * 100).to_frame('porcentaje nulls')"
   ]
  },
  {
   "cell_type": "markdown",
   "metadata": {},
   "source": [
    "Si hacemos un análisis de los valores nulos en las columnas categoría de trabajo y trabajo, podemos encontrar una relación entre estas"
   ]
  },
  {
   "cell_type": "code",
   "execution_count": 400,
   "metadata": {
    "scrolled": true
   },
   "outputs": [
    {
     "name": "stdout",
     "output_type": "stream",
     "text": [
      "Hay 1836 filas con valores nulos en trabajo y categoría\n"
     ]
    },
    {
     "data": {
      "text/html": [
       "<div>\n",
       "<style scoped>\n",
       "    .dataframe tbody tr th:only-of-type {\n",
       "        vertical-align: middle;\n",
       "    }\n",
       "\n",
       "    .dataframe tbody tr th {\n",
       "        vertical-align: top;\n",
       "    }\n",
       "\n",
       "    .dataframe thead th {\n",
       "        text-align: right;\n",
       "    }\n",
       "</style>\n",
       "<table border=\"1\" class=\"dataframe\">\n",
       "  <thead>\n",
       "    <tr style=\"text-align: right;\">\n",
       "      <th></th>\n",
       "      <th>categoria_de_trabajo</th>\n",
       "      <th>trabajo</th>\n",
       "    </tr>\n",
       "  </thead>\n",
       "  <tbody>\n",
       "    <tr>\n",
       "      <th>5361</th>\n",
       "      <td>sin_trabajo</td>\n",
       "      <td>NaN</td>\n",
       "    </tr>\n",
       "    <tr>\n",
       "      <th>10845</th>\n",
       "      <td>sin_trabajo</td>\n",
       "      <td>NaN</td>\n",
       "    </tr>\n",
       "    <tr>\n",
       "      <th>14772</th>\n",
       "      <td>sin_trabajo</td>\n",
       "      <td>NaN</td>\n",
       "    </tr>\n",
       "    <tr>\n",
       "      <th>20337</th>\n",
       "      <td>sin_trabajo</td>\n",
       "      <td>NaN</td>\n",
       "    </tr>\n",
       "    <tr>\n",
       "      <th>23232</th>\n",
       "      <td>sin_trabajo</td>\n",
       "      <td>NaN</td>\n",
       "    </tr>\n",
       "    <tr>\n",
       "      <th>32304</th>\n",
       "      <td>sin_trabajo</td>\n",
       "      <td>NaN</td>\n",
       "    </tr>\n",
       "    <tr>\n",
       "      <th>32314</th>\n",
       "      <td>sin_trabajo</td>\n",
       "      <td>NaN</td>\n",
       "    </tr>\n",
       "  </tbody>\n",
       "</table>\n",
       "</div>"
      ],
      "text/plain": [
       "      categoria_de_trabajo trabajo\n",
       "5361           sin_trabajo     NaN\n",
       "10845          sin_trabajo     NaN\n",
       "14772          sin_trabajo     NaN\n",
       "20337          sin_trabajo     NaN\n",
       "23232          sin_trabajo     NaN\n",
       "32304          sin_trabajo     NaN\n",
       "32314          sin_trabajo     NaN"
      ]
     },
     "execution_count": 400,
     "metadata": {},
     "output_type": "execute_result"
    }
   ],
   "source": [
    "trabajo_y_categoria_na = df[df['categoria_de_trabajo'].isna() & df['trabajo'].isna()]\n",
    "print(f\"Hay {len(trabajo_y_categoria_na)} filas con valores nulos en trabajo y categoría\")\n",
    "\n",
    "# Hay 1836 filas que tienen NaN en ambas categorías.\n",
    "\n",
    "sin_trabajo = df[df['categoria_de_trabajo'] == 'sin_trabajo']\n",
    "sin_trabajo[['categoria_de_trabajo', 'trabajo']]"
   ]
  },
  {
   "cell_type": "markdown",
   "metadata": {},
   "source": [
    "Eliminamos los que tienen categoria_de_trabajo y trabajo NaN."
   ]
  },
  {
   "cell_type": "code",
   "execution_count": 401,
   "metadata": {
    "scrolled": true
   },
   "outputs": [
    {
     "data": {
      "text/plain": [
       "anios_estudiados                                0\n",
       "barrio                                        556\n",
       "categoria_de_trabajo                            0\n",
       "edad                                            0\n",
       "educacion_alcanzada                             0\n",
       "estado_marital                                  0\n",
       "ganancia_perdida_declarada_bolsa_argentina      0\n",
       "genero                                          0\n",
       "horas_trabajo_registradas                       0\n",
       "religion                                        0\n",
       "rol_familiar_registrado                         0\n",
       "tiene_alto_valor_adquisitivo                    0\n",
       "trabajo                                         7\n",
       "dtype: int64"
      ]
     },
     "execution_count": 401,
     "metadata": {},
     "output_type": "execute_result"
    }
   ],
   "source": [
    "df = df.dropna(subset=['categoria_de_trabajo'])\n",
    "df.isnull().sum()"
   ]
  },
  {
   "cell_type": "markdown",
   "metadata": {},
   "source": [
    "Reemplazamos los NaN de la categoría barrio con una categoría llamamda 'No responde'.\n"
   ]
  },
  {
   "cell_type": "code",
   "execution_count": 402,
   "metadata": {},
   "outputs": [
    {
     "data": {
      "text/plain": [
       "anios_estudiados                              0\n",
       "barrio                                        0\n",
       "categoria_de_trabajo                          0\n",
       "edad                                          0\n",
       "educacion_alcanzada                           0\n",
       "estado_marital                                0\n",
       "ganancia_perdida_declarada_bolsa_argentina    0\n",
       "genero                                        0\n",
       "horas_trabajo_registradas                     0\n",
       "religion                                      0\n",
       "rol_familiar_registrado                       0\n",
       "tiene_alto_valor_adquisitivo                  0\n",
       "trabajo                                       0\n",
       "dtype: int64"
      ]
     },
     "execution_count": 402,
     "metadata": {},
     "output_type": "execute_result"
    }
   ],
   "source": [
    "df = df.replace(np.nan, {'trabajo': 'desempleado', 'barrio': 'No responde'})\n",
    "df.reset_index(drop=True, inplace=True)\n",
    "df.isnull().sum()"
   ]
  },
  {
   "cell_type": "code",
   "execution_count": 403,
   "metadata": {
    "scrolled": true
   },
   "outputs": [],
   "source": [
    "def definir_nivel(nivel):\n",
    "    if nivel.startswith(\"uni\"):\n",
    "        return \"universitario\"\n",
    "    elif nivel.endswith(\"anio\"):\n",
    "        return \"secundario\"\n",
    "    elif nivel.endswith(\"grado\"):\n",
    "        return \"primario\"\n",
    "    else:\n",
    "        return \"jardin\"\n",
    "\n",
    "df['nivel_educativo_alcanzado'] = df['educacion_alcanzada'].apply(definir_nivel)"
   ]
  },
  {
   "cell_type": "code",
   "execution_count": 404,
   "metadata": {},
   "outputs": [
    {
     "data": {
      "text/plain": [
       "secundario       19029\n",
       "universitario    10154\n",
       "primario          1496\n",
       "jardin              46\n",
       "Name: nivel_educativo_alcanzado, dtype: int64"
      ]
     },
     "execution_count": 404,
     "metadata": {},
     "output_type": "execute_result"
    }
   ],
   "source": [
    "df.nivel_educativo_alcanzado.value_counts()"
   ]
  },
  {
   "cell_type": "code",
   "execution_count": 405,
   "metadata": {},
   "outputs": [
    {
     "data": {
      "text/plain": [
       "universitario    4434\n",
       "secundario       3132\n",
       "primario           84\n",
       "Name: nivel_educativo_alcanzado, dtype: int64"
      ]
     },
     "execution_count": 405,
     "metadata": {},
     "output_type": "execute_result"
    }
   ],
   "source": [
    "# Cantidad con alto valor adquisitivo según nivel educativo alcanzado (jardín es 0)\n",
    "con_alto_valor_adquisitivo = df[df['tiene_alto_valor_adquisitivo'] == 1]\n",
    "con_alto_valor_adquisitivo.nivel_educativo_alcanzado.value_counts()"
   ]
  },
  {
   "cell_type": "code",
   "execution_count": null,
   "metadata": {},
   "outputs": [],
   "source": []
  },
  {
   "cell_type": "markdown",
   "metadata": {},
   "source": [
    "Vamos a revisar que las columnas no numéricas que deberían contener solo caracteres, contengan lo que deberían contener. Obviamos la columna educacion_alcanzada, ya que esta puede tener números, y la columna recientemente agregada, nivel_educativo_alcanzado."
   ]
  },
  {
   "cell_type": "code",
   "execution_count": 406,
   "metadata": {},
   "outputs": [
    {
     "name": "stdout",
     "output_type": "stream",
     "text": [
      "False\n",
      "False\n",
      "False\n",
      "False\n",
      "False\n",
      "False\n",
      "False\n"
     ]
    }
   ],
   "source": [
    "columnas_no_numericas = ['barrio', 'categoria_de_trabajo', 'estado_marital', 'genero', 'religion', 'rol_familiar_registrado', 'trabajo']\n",
    "for c in columnas_no_numericas:\n",
    "    print(df[c].str.contains('1|2|3|4|5|6|7|8|9|0|-|#|%|&|!|@').any())      "
   ]
  },
  {
   "cell_type": "markdown",
   "metadata": {},
   "source": [
    "## Análisis de los datos"
   ]
  },
  {
   "cell_type": "markdown",
   "metadata": {},
   "source": [
    "Para hacer el análisis del set de dato, primero vamos a realizarnos unas preguntas simples a modo de guía, para hacer un desarrollo a partir de estas. Las preguntas que surgieron en este caso son:"
   ]
  },
  {
   "cell_type": "markdown",
   "metadata": {},
   "source": [
    "- ¿Está el barrio en el que residen las personas relacionado con sus ingresos?\n",
    "- ¿En qué afecta el nivel de educación alcanzada?\n",
    "- ¿Es directamente proporcional la cantidad de horas trabajadas con el valor adquisitivo de la gente?\n",
    "- ¿Se debería tener en cuenta la religión?\n",
    "- ¿Es el tipo de trabajo un factor fundamental para determinar los ingresos de una persona?\n",
    "- ¿El rol familiar se debería tener en cuenta para la variable objetivo?\n",
    "- ¿Si un contribuyente declara ganancia/pérdida en la bolsa, afecta esto fuertemente sus ingresos?\n",
    "- ¿Se divide el valor adquisitivo en grupos etarios?"
   ]
  },
  {
   "cell_type": "markdown",
   "metadata": {},
   "source": [
    "### ¿Hay relación entre el barrio y los ingresos?"
   ]
  },
  {
   "cell_type": "markdown",
   "metadata": {},
   "source": [
    "Comencemos observando la distribución de los distintos barrios en el dataset."
   ]
  },
  {
   "cell_type": "code",
   "execution_count": 407,
   "metadata": {},
   "outputs": [
    {
     "data": {
      "image/png": "[encoded data removed]",
      "text/plain": [
       "<Figure size 640x480 with 1 Axes>"
      ]
     },
     "metadata": {},
     "output_type": "display_data"
    }
   ],
   "source": [
    "\n",
    "plt.figure(figsize=(6.4, 4.8), dpi=100)\n",
    "df['barrio'].value_counts().iloc[:4].plot(kind='pie')\n",
    "plt.title('Cantidad de personas por barrio')\n",
    "plt.show()\n",
    "\n"
   ]
  },
  {
   "cell_type": "markdown",
   "metadata": {},
   "source": [
    "Se puede observar claramente que el barrio predominante es Palermo, el resto fueron agrupados porque su porcentaje es muy bajo."
   ]
  },
  {
   "cell_type": "code",
   "execution_count": null,
   "metadata": {},
   "outputs": [],
   "source": []
  },
  {
   "cell_type": "code",
   "execution_count": null,
   "metadata": {},
   "outputs": [],
   "source": []
  },
  {
   "cell_type": "code",
   "execution_count": null,
   "metadata": {},
   "outputs": [],
   "source": []
  },
  {
   "cell_type": "code",
   "execution_count": null,
   "metadata": {},
   "outputs": [],
   "source": []
  },
  {
   "cell_type": "code",
   "execution_count": null,
   "metadata": {},
   "outputs": [],
   "source": []
  },
  {
   "cell_type": "code",
   "execution_count": null,
   "metadata": {},
   "outputs": [],
   "source": []
  },
  {
   "cell_type": "code",
   "execution_count": null,
   "metadata": {},
   "outputs": [],
   "source": []
  },
  {
   "cell_type": "code",
   "execution_count": null,
   "metadata": {},
   "outputs": [],
   "source": []
  },
  {
   "cell_type": "code",
   "execution_count": null,
   "metadata": {},
   "outputs": [],
   "source": []
  },
  {
   "cell_type": "code",
   "execution_count": null,
   "metadata": {},
   "outputs": [],
   "source": []
  },
  {
   "cell_type": "code",
   "execution_count": null,
   "metadata": {},
   "outputs": [],
   "source": []
  },
  {
   "cell_type": "code",
   "execution_count": null,
   "metadata": {},
   "outputs": [],
   "source": []
  },
  {
   "cell_type": "code",
   "execution_count": null,
   "metadata": {},
   "outputs": [],
   "source": []
  }
 ],
 "metadata": {
  "kernelspec": {
   "display_name": "Python 3",
   "language": "python",
   "name": "python3"
  },
  "language_info": {
   "codemirror_mode": {
    "name": "ipython",
    "version": 3
   },
   "file_extension": ".py",
   "mimetype": "text/x-python",
   "name": "python",
   "nbconvert_exporter": "python",
   "pygments_lexer": "ipython3",
   "version": "3.8.5"
  }
 },
 "nbformat": 4,
 "nbformat_minor": 4
}
