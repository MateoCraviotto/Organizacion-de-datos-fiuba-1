{
 "cells": [
  {
   "cell_type": "code",
   "execution_count": 1,
   "metadata": {},
   "outputs": [],
   "source": [
    "import pandas as pd\n",
    "import numpy as np"
   ]
  },
  {
   "cell_type": "code",
   "execution_count": 2,
   "metadata": {},
   "outputs": [],
   "source": [
    "from sklearn.model_selection import train_test_split\n",
    "from sklearn.metrics import classification_report\n",
    "from sklearn.model_selection import KFold, StratifiedKFold\n",
    "from sklearn.naive_bayes import GaussianNB\n",
    "from sklearn.naive_bayes import MultinomialNB\n",
    "from sklearn.naive_bayes import CategoricalNB\n",
    "from sklearn.metrics import roc_auc_score"
   ]
  },
  {
   "cell_type": "code",
   "execution_count": 3,
   "metadata": {},
   "outputs": [],
   "source": [
    "from preprocessing import dividir_dataset\n",
    "from preprocessing import preparar_dataset\n",
    "from preprocessing import traer_variables_categoricas\n",
    "from preprocessing import aplicar_one_hot_encoding\n",
    "from preprocessing import traer_variables_discretas\n",
    "from preprocessing import traer_variables_numericas"
   ]
  },
  {
   "cell_type": "code",
   "execution_count": 4,
   "metadata": {},
   "outputs": [],
   "source": [
    "from funcionesAuxiliares import graficar_auc_roc\n",
    "from funcionesAuxiliares import traer_df"
   ]
  },
  {
   "cell_type": "code",
   "execution_count": 5,
   "metadata": {},
   "outputs": [],
   "source": [
    "df = traer_df()\n",
    "df = preparar_dataset(df)\n",
    "X, y = dividir_dataset(df)"
   ]
  },
  {
   "cell_type": "markdown",
   "metadata": {},
   "source": [
    "# CategoricalNB"
   ]
  },
  {
   "cell_type": "code",
   "execution_count": 6,
   "metadata": {},
   "outputs": [],
   "source": [
    "def definir_mejores_hiperparametros_categorical(X, y):    \n",
    "    metrics = []\n",
    "    y_array=np.array(y)    \n",
    "    for alpha in [0.001,0.01,0.5,0.3,0.1,1,2,3,5,10]: \n",
    "        kf = StratifiedKFold(n_splits=5)\n",
    "        metricas_de_la_combinacion = []\n",
    "        for fold_index, (train_index, test_index) in enumerate(kf.split(X, y_array)):\n",
    "            print(alpha)\n",
    "            categoricalNB = CategoricalNB(alpha=alpha)\n",
    "            categoricalNB.fit(X.iloc[train_index], y.iloc[train_index])\n",
    "            y_pred = categoricalNB.predict_proba(X.iloc[test_index])[:,1]\n",
    "            metricas_de_la_combinacion.append(roc_auc_score(y.iloc[test_index], y_pred))\n",
    "            print(roc_auc_score(y.iloc[test_index], y_pred))\n",
    "\n",
    "        print(f\"Promedio de la combinación: {np.mean(metricas_de_la_combinacion)}\")\n",
    "        metrics.append((alpha,np.mean(metricas_de_la_combinacion)))\n",
    "                    \n",
    "    df_metrics = pd.DataFrame(metrics, columns = ['alpha','rocauc'])\n",
    "    mejor_combinacion = df_metrics[df_metrics[\"rocauc\"] ==  max(df_metrics.rocauc)]\n",
    "    return mejor_combinacion"
   ]
  },
  {
   "cell_type": "code",
   "execution_count": 7,
   "metadata": {},
   "outputs": [
    {
     "name": "stdout",
     "output_type": "stream",
     "text": [
      "<class 'pandas.core.frame.DataFrame'>\n",
      "RangeIndex: 32561 entries, 0 to 32560\n",
      "Data columns (total 12 columns):\n",
      " #   Column                                      Non-Null Count  Dtype \n",
      "---  ------                                      --------------  ----- \n",
      " 0   anios_estudiados                            32561 non-null  int64 \n",
      " 1   barrio                                      32561 non-null  object\n",
      " 2   categoria_de_trabajo                        30725 non-null  object\n",
      " 3   edad                                        32561 non-null  int64 \n",
      " 4   educacion_alcanzada                         32561 non-null  object\n",
      " 5   estado_marital                              32561 non-null  object\n",
      " 6   ganancia_perdida_declarada_bolsa_argentina  32561 non-null  int64 \n",
      " 7   genero                                      32561 non-null  object\n",
      " 8   horas_trabajo_registradas                   32561 non-null  int64 \n",
      " 9   religion                                    32561 non-null  object\n",
      " 10  rol_familiar_registrado                     32561 non-null  object\n",
      " 11  trabajo                                     30725 non-null  object\n",
      "dtypes: int64(4), object(8)\n",
      "memory usage: 3.0+ MB\n"
     ]
    }
   ],
   "source": [
    "X.info()"
   ]
  },
  {
   "cell_type": "code",
   "execution_count": 8,
   "metadata": {},
   "outputs": [],
   "source": [
    "X_categoricas = traer_variables_categoricas(X)\n",
    "X_categoricas = aplicar_one_hot_encoding(X_categoricas)\n",
    "X_train, X_test, y_train, y_test = train_test_split(X_categoricas, y, test_size=0.25, random_state=0)"
   ]
  },
  {
   "cell_type": "code",
   "execution_count": 9,
   "metadata": {},
   "outputs": [
    {
     "name": "stdout",
     "output_type": "stream",
     "text": [
      "0.001\n",
      "0.8535366016529813\n",
      "0.001\n",
      "0.8522145091349647\n",
      "0.001\n",
      "0.8538644295703718\n",
      "0.001\n",
      "0.8580667248695595\n",
      "0.001\n",
      "0.8554325021877683\n",
      "Promedio de la combinación: 0.8546229534831291\n",
      "0.01\n",
      "0.8535344101224989\n",
      "0.01\n",
      "0.8522066403928077\n",
      "0.01\n",
      "0.8538636555957334\n",
      "0.01\n",
      "0.8581218060646589\n",
      "0.01\n",
      "0.855426181394888\n",
      "Promedio de la combinación: 0.8546305387141174\n",
      "0.5\n",
      "0.8534977986720873\n",
      "0.5\n",
      "0.8521896129507628\n",
      "0.5\n",
      "0.8538159271596988\n",
      "0.5\n",
      "0.8581347056419655\n",
      "0.5\n",
      "0.8554367590482794\n",
      "Promedio de la combinación: 0.8546149606945587\n",
      "0.3\n",
      "0.8535426605901972\n",
      "0.3\n",
      "0.8522007065872466\n",
      "0.3\n",
      "0.8538263758173171\n",
      "0.3\n",
      "0.8581816601033616\n",
      "0.3\n",
      "0.8554312122300376\n",
      "Promedio de la combinación: 0.8546365230656321\n",
      "0.1\n",
      "0.8535378907885591\n",
      "0.1\n",
      "0.8522041894731194\n",
      "0.1\n",
      "0.8538419843058582\n",
      "0.1\n",
      "0.8581683735387359\n",
      "0.1\n",
      "0.8554206345766461\n",
      "Promedio de la combinación: 0.8546346145365838\n",
      "1\n",
      "0.8534713713927409\n",
      "1\n",
      "0.8521693606143914\n",
      "1\n",
      "0.8537770994320057\n",
      "1\n",
      "0.8580611780513177\n",
      "1\n",
      "0.8554488846509477\n",
      "Promedio de la combinación: 0.8545855788282808\n",
      "2\n",
      "0.8534923843026602\n",
      "2\n",
      "0.8521236961107257\n",
      "2\n",
      "0.8537269200762829\n",
      "2\n",
      "0.857968817077802\n",
      "2\n",
      "0.8553307245228189\n",
      "Promedio de la combinación: 0.8545285084180578\n",
      "3\n",
      "0.8534742074910122\n",
      "3\n",
      "0.8520727427803645\n",
      "3\n",
      "0.8536522315236774\n",
      "3\n",
      "0.857813635162803\n",
      "3\n",
      "0.8553198888778812\n",
      "Promedio de la combinación: 0.8544665411671477\n",
      "5\n",
      "0.8532830286848136\n",
      "5\n",
      "0.8517996587287827\n",
      "5\n",
      "0.8535517438164586\n",
      "5\n",
      "0.8576934111023049\n",
      "5\n",
      "0.8552957666683179\n",
      "Promedio de la combinación: 0.8543247218001355\n",
      "10\n",
      "0.8529893636001741\n",
      "10\n",
      "0.8516142918028862\n",
      "10\n",
      "0.8532631802721087\n",
      "10\n",
      "0.8573634399148009\n",
      "10\n",
      "0.8549240008503403\n",
      "Promedio de la combinación: 0.8540308552880621\n",
      "   alpha    rocauc\n",
      "3    0.3  0.854637\n"
     ]
    }
   ],
   "source": [
    "mejor_combinacion = definir_mejores_hiperparametros_categorical(X_categoricas, y)\n",
    "print(mejor_combinacion)"
   ]
  },
  {
   "cell_type": "code",
   "execution_count": 10,
   "metadata": {},
   "outputs": [
    {
     "data": {
      "text/plain": [
       "CategoricalNB(alpha=0.3)"
      ]
     },
     "execution_count": 10,
     "metadata": {},
     "output_type": "execute_result"
    }
   ],
   "source": [
    "parametros_categoricalNB = mejor_combinacion.loc[:].values[0]\n",
    "categoricalNB = CategoricalNB(alpha=parametros_categoricalNB[0])\n",
    "categoricalNB.fit(X_train, y_train)"
   ]
  },
  {
   "cell_type": "code",
   "execution_count": 11,
   "metadata": {},
   "outputs": [
    {
     "name": "stdout",
     "output_type": "stream",
     "text": [
      "                                 precision    recall  f1-score   support\n",
      "\n",
      "No Tiene Alto Valor Adquisitivo       0.90      0.80      0.84      6159\n",
      "   Tiene Alto Valor Adquisitivo       0.53      0.71      0.61      1982\n",
      "\n",
      "                       accuracy                           0.78      8141\n",
      "                      macro avg       0.71      0.76      0.73      8141\n",
      "                   weighted avg       0.81      0.78      0.79      8141\n",
      "\n"
     ]
    },
    {
     "data": {
      "image/png": "[encoded data removed]",
      "text/plain": [
       "<Figure size 1080x720 with 1 Axes>"
      ]
     },
     "metadata": {
      "needs_background": "light"
     },
     "output_type": "display_data"
    },
    {
     "data": {
      "text/plain": [
       "0.8517291686224895"
      ]
     },
     "metadata": {},
     "output_type": "display_data"
    }
   ],
   "source": [
    "y_pred = categoricalNB.predict(X_test)\n",
    "y_pred_proba = categoricalNB.predict_proba(X_test)[:,1]\n",
    "print(classification_report(y_test, y_pred, target_names=['No Tiene Alto Valor Adquisitivo', 'Tiene Alto Valor Adquisitivo']))\n",
    "graficar_auc_roc(y_test,y_pred_proba)"
   ]
  },
  {
   "cell_type": "code",
   "execution_count": 12,
   "metadata": {},
   "outputs": [],
   "source": [
    "probabilidades_categorical = categoricalNB.predict_proba(X_train)\n",
    "probabilidades_x_test_categorical = categoricalNB.predict_proba(X_test)"
   ]
  },
  {
   "cell_type": "markdown",
   "metadata": {},
   "source": [
    "# MultinomialNB"
   ]
  },
  {
   "cell_type": "code",
   "execution_count": 13,
   "metadata": {},
   "outputs": [],
   "source": [
    "def definir_mejores_hiperparametros_multinomial(X, y):    \n",
    "    metrics = []\n",
    "    y_array=np.array(y)    \n",
    "    for alpha in [0.001,0.01,0.5,0.3,0.1,1,2,3,5,10]: \n",
    "        kf = StratifiedKFold(n_splits=5)\n",
    "        metricas_de_la_combinacion = []\n",
    "        for fold_index, (train_index, test_index) in enumerate(kf.split(X, y_array)):\n",
    "            print(alpha)\n",
    "            multinomialNB = MultinomialNB(alpha=alpha)\n",
    "            multinomialNB.fit(X.iloc[train_index], y.iloc[train_index])\n",
    "            y_pred = multinomialNB.predict_proba(X.iloc[test_index])[:,1]\n",
    "            metricas_de_la_combinacion.append(roc_auc_score(y.iloc[test_index], y_pred))\n",
    "            print(roc_auc_score(y.iloc[test_index], y_pred))\n",
    "\n",
    "        print(f\"Promedio de la combinación: {np.mean(metricas_de_la_combinacion)}\")\n",
    "        metrics.append((alpha,np.mean(metricas_de_la_combinacion)))\n",
    "                    \n",
    "    df_metrics = pd.DataFrame(metrics, columns = ['alpha','rocauc'])\n",
    "    mejor_combinacion = df_metrics[df_metrics[\"rocauc\"] ==  max(df_metrics.rocauc)]\n",
    "    return mejor_combinacion"
   ]
  },
  {
   "cell_type": "code",
   "execution_count": 14,
   "metadata": {},
   "outputs": [
    {
     "name": "stdout",
     "output_type": "stream",
     "text": [
      "<class 'pandas.core.frame.DataFrame'>\n",
      "RangeIndex: 32561 entries, 0 to 32560\n",
      "Data columns (total 12 columns):\n",
      " #   Column                                      Non-Null Count  Dtype \n",
      "---  ------                                      --------------  ----- \n",
      " 0   anios_estudiados                            32561 non-null  int64 \n",
      " 1   barrio                                      32561 non-null  object\n",
      " 2   categoria_de_trabajo                        30725 non-null  object\n",
      " 3   edad                                        32561 non-null  int64 \n",
      " 4   educacion_alcanzada                         32561 non-null  object\n",
      " 5   estado_marital                              32561 non-null  object\n",
      " 6   ganancia_perdida_declarada_bolsa_argentina  32561 non-null  int64 \n",
      " 7   genero                                      32561 non-null  object\n",
      " 8   horas_trabajo_registradas                   32561 non-null  int64 \n",
      " 9   religion                                    32561 non-null  object\n",
      " 10  rol_familiar_registrado                     32561 non-null  object\n",
      " 11  trabajo                                     30725 non-null  object\n",
      "dtypes: int64(4), object(8)\n",
      "memory usage: 3.0+ MB\n"
     ]
    }
   ],
   "source": [
    "X.info()"
   ]
  },
  {
   "cell_type": "code",
   "execution_count": 15,
   "metadata": {},
   "outputs": [
    {
     "name": "stdout",
     "output_type": "stream",
     "text": [
      "<class 'pandas.core.frame.DataFrame'>\n",
      "RangeIndex: 32561 entries, 0 to 32560\n",
      "Data columns (total 3 columns):\n",
      " #   Column                     Non-Null Count  Dtype\n",
      "---  ------                     --------------  -----\n",
      " 0   anios_estudiados           32561 non-null  int64\n",
      " 1   edad                       32561 non-null  int64\n",
      " 2   horas_trabajo_registradas  32561 non-null  int64\n",
      "dtypes: int64(3)\n",
      "memory usage: 763.3 KB\n"
     ]
    }
   ],
   "source": [
    "X_discretas = traer_variables_discretas(X)\n",
    "X_discretas.info()\n",
    "X_train, X_test, y_train, y_test = train_test_split(X_discretas, y, test_size=0.25, random_state=0)"
   ]
  },
  {
   "cell_type": "code",
   "execution_count": 16,
   "metadata": {},
   "outputs": [
    {
     "name": "stdout",
     "output_type": "stream",
     "text": [
      "0.001\n",
      "0.5638378004459378\n",
      "0.001\n",
      "0.560820475034674\n",
      "0.001\n",
      "0.5618287059969619\n",
      "0.001\n",
      "0.5534288882421902\n",
      "0.001\n",
      "0.5578402856895185\n",
      "Promedio de la combinación: 0.5595512310818564\n",
      "0.01\n",
      "0.5638378004459378\n",
      "0.01\n",
      "0.560820475034674\n",
      "0.01\n",
      "0.5618287059969619\n",
      "0.01\n",
      "0.5534288882421902\n",
      "0.01\n",
      "0.5578402856895185\n",
      "Promedio de la combinación: 0.5595512310818564\n",
      "0.5\n",
      "0.5638383161001689\n",
      "0.5\n",
      "0.560820475034674\n",
      "0.5\n",
      "0.5618285770011888\n",
      "0.5\n",
      "0.5534291462337362\n",
      "0.5\n",
      "0.5578401566937454\n",
      "Promedio de la combinación: 0.5595513342127028\n",
      "0.3\n",
      "0.5638379293594956\n",
      "0.3\n",
      "0.560820475034674\n",
      "0.3\n",
      "0.5618285770011888\n",
      "0.3\n",
      "0.5534291462337362\n",
      "0.3\n",
      "0.5578401566937454\n",
      "Promedio de la combinación: 0.5595512568645681\n",
      "0.1\n",
      "0.5638379293594956\n",
      "0.1\n",
      "0.560820475034674\n",
      "0.1\n",
      "0.5618287059969619\n",
      "0.1\n",
      "0.5534291462337362\n",
      "0.1\n",
      "0.5578402856895185\n",
      "Promedio de la combinación: 0.5595513084628772\n",
      "1\n",
      "0.5638384450137267\n",
      "1\n",
      "0.560820346038901\n",
      "1\n",
      "0.5618227721914009\n",
      "1\n",
      "0.553432629119609\n",
      "1\n",
      "0.5578401566937455\n",
      "Promedio de la combinación: 0.5595508698114766\n",
      "2\n",
      "0.5638381871866112\n",
      "2\n",
      "0.5608207330262202\n",
      "2\n",
      "0.5618218692209893\n",
      "2\n",
      "0.553430694183013\n",
      "2\n",
      "0.5578438975711644\n",
      "Promedio de la combinación: 0.5595510762375996\n",
      "3\n",
      "0.563900710262138\n",
      "3\n",
      "0.5608213780050855\n",
      "3\n",
      "0.5618219982167624\n",
      "3\n",
      "0.5534325001238359\n",
      "3\n",
      "0.5578444135542566\n",
      "Promedio de la combinación: 0.5595642000324157\n",
      "5\n",
      "0.5638961982876154\n",
      "5\n",
      "0.5607380467356846\n",
      "5\n",
      "0.5618218692209893\n",
      "5\n",
      "0.5534299202083746\n",
      "5\n",
      "0.5578340938924113\n",
      "Promedio de la combinación: 0.5595440256690151\n",
      "10\n",
      "0.5638839514996257\n",
      "10\n",
      "0.5607426905835149\n",
      "10\n",
      "0.5618183863351165\n",
      "10\n",
      "0.553424889373225\n",
      "10\n",
      "0.5578231292517007\n",
      "Promedio de la combinación: 0.5595386094086365\n",
      "   alpha    rocauc\n",
      "7    3.0  0.559564\n"
     ]
    }
   ],
   "source": [
    "mejor_combinacion = definir_mejores_hiperparametros_multinomial(X_discretas, y)\n",
    "print(mejor_combinacion)"
   ]
  },
  {
   "cell_type": "code",
   "execution_count": 17,
   "metadata": {},
   "outputs": [
    {
     "data": {
      "text/plain": [
       "MultinomialNB(alpha=3.0)"
      ]
     },
     "execution_count": 17,
     "metadata": {},
     "output_type": "execute_result"
    }
   ],
   "source": [
    "parametros_multinomialNB = mejor_combinacion.loc[:].values[0]\n",
    "multinomialNB = MultinomialNB(alpha=parametros_multinomialNB[0])\n",
    "multinomialNB.fit(X_train, y_train)"
   ]
  },
  {
   "cell_type": "code",
   "execution_count": 18,
   "metadata": {},
   "outputs": [
    {
     "name": "stdout",
     "output_type": "stream",
     "text": [
      "                                 precision    recall  f1-score   support\n",
      "\n",
      "No Tiene Alto Valor Adquisitivo       0.76      1.00      0.86      6159\n",
      "   Tiene Alto Valor Adquisitivo       0.00      0.00      0.00      1982\n",
      "\n",
      "                       accuracy                           0.76      8141\n",
      "                      macro avg       0.38      0.50      0.43      8141\n",
      "                   weighted avg       0.57      0.76      0.65      8141\n",
      "\n"
     ]
    },
    {
     "data": {
      "image/png": "[encoded data removed]",
      "text/plain": [
       "<Figure size 1080x720 with 1 Axes>"
      ]
     },
     "metadata": {
      "needs_background": "light"
     },
     "output_type": "display_data"
    },
    {
     "data": {
      "text/plain": [
       "0.5634842499527736"
      ]
     },
     "metadata": {},
     "output_type": "display_data"
    }
   ],
   "source": [
    "y_pred = multinomialNB.predict(X_test)\n",
    "y_pred_proba = multinomialNB.predict_proba(X_test)[:,1]\n",
    "\n",
    "print(classification_report(y_test, y_pred, target_names=['No Tiene Alto Valor Adquisitivo', 'Tiene Alto Valor Adquisitivo']))\n",
    "graficar_auc_roc(y_test,y_pred_proba)"
   ]
  },
  {
   "cell_type": "markdown",
   "metadata": {},
   "source": [
    "# GaussianNB"
   ]
  },
  {
   "cell_type": "code",
   "execution_count": 19,
   "metadata": {},
   "outputs": [],
   "source": [
    "def definir_mejores_hiperparametros_gaussian(X, y):    \n",
    "    metrics = []\n",
    "    y_array=np.array(y)    \n",
    "    for smoothing in [0.000000001,0.00000001,0.0000001,0.000001,0.00001,0.0001,0.001]:\n",
    "        kf = StratifiedKFold(n_splits=5)\n",
    "        metricas_de_la_combinacion = []\n",
    "        for fold_index, (train_index, test_index) in enumerate(kf.split(X, y_array)):\n",
    "            print(smoothing)\n",
    "            gaussianNB = GaussianNB(var_smoothing = smoothing)\n",
    "            gaussianNB.fit(X.iloc[train_index], y.iloc[train_index])\n",
    "            y_pred = gaussianNB.predict_proba(X.iloc[test_index])[:,1]\n",
    "            metricas_de_la_combinacion.append(roc_auc_score(y.iloc[test_index], y_pred))\n",
    "            print(roc_auc_score(y.iloc[test_index], y_pred))\n",
    "\n",
    "        print(f\"Promedio de la combinación: {np.mean(metricas_de_la_combinacion)}\")\n",
    "        metrics.append((smoothing,np.mean(metricas_de_la_combinacion)))\n",
    "                    \n",
    "    df_metrics = pd.DataFrame(metrics, columns = ['smoothing','rocauc'])\n",
    "    mejor_combinacion = df_metrics[df_metrics[\"rocauc\"] ==  max(df_metrics.rocauc)]\n",
    "    return mejor_combinacion"
   ]
  },
  {
   "cell_type": "code",
   "execution_count": 20,
   "metadata": {},
   "outputs": [],
   "source": [
    "X_discretas = traer_variables_discretas(X)\n",
    "X_train, X_test, y_train, y_test = train_test_split(X_discretas, y, test_size=0.25, random_state=0)"
   ]
  },
  {
   "cell_type": "code",
   "execution_count": 21,
   "metadata": {},
   "outputs": [
    {
     "name": "stdout",
     "output_type": "stream",
     "text": [
      "1e-09\n",
      "0.8084217551426196\n",
      "1e-09\n",
      "0.8040853477313255\n",
      "1e-09\n",
      "0.8120874715177332\n",
      "1e-09\n",
      "0.820952706021729\n",
      "1e-09\n",
      "0.8184181970725184\n",
      "Promedio de la combinación: 0.8127930954971851\n",
      "1e-08\n",
      "0.8084217551426196\n",
      "1e-08\n",
      "0.8040852187355524\n",
      "1e-08\n",
      "0.8120874715177332\n",
      "1e-08\n",
      "0.820952835017502\n",
      "1e-08\n",
      "0.8184181970725184\n",
      "Promedio de la combinación: 0.8127930954971851\n",
      "1e-07\n",
      "0.8084216262290618\n",
      "1e-07\n",
      "0.8040853477313255\n",
      "1e-07\n",
      "0.8120874715177333\n",
      "1e-07\n",
      "0.8209530930090483\n",
      "1e-07\n",
      "0.8184185840598377\n",
      "Promedio de la combinación: 0.8127932245094012\n",
      "1e-06\n",
      "0.8084214973155041\n",
      "1e-06\n",
      "0.8040858637144178\n",
      "1e-06\n",
      "0.8120879875008254\n",
      "1e-06\n",
      "0.8209490941400832\n",
      "1e-06\n",
      "0.8184187130556105\n",
      "Promedio de la combinación: 0.8127926311452882\n",
      "1e-05\n",
      "0.8084389006458053\n",
      "1e-05\n",
      "0.8040791559342183\n",
      "1e-05\n",
      "0.8120878585050526\n",
      "1e-05\n",
      "0.8209496101231755\n",
      "1e-05\n",
      "0.818423227907668\n",
      "Promedio de la combinación: 0.8127957506231839\n",
      "0.0001\n",
      "0.8084878877977646\n",
      "0.0001\n",
      "0.8040897335876097\n",
      "0.0001\n",
      "0.8121172695413117\n",
      "0.0001\n",
      "0.8209668955567663\n",
      "0.0001\n",
      "0.8184552188593885\n",
      "Promedio de la combinación: 0.8128234010685681\n",
      "0.001\n",
      "0.8089460465821406\n",
      "0.001\n",
      "0.8042268560943795\n",
      "0.001\n",
      "0.8122729674394029\n",
      "0.001\n",
      "0.8210640293738855\n",
      "0.001\n",
      "0.818611432740572\n",
      "Promedio de la combinación: 0.8130242664460761\n",
      "   smoothing    rocauc\n",
      "6      0.001  0.813024\n"
     ]
    }
   ],
   "source": [
    "mejor_combinacion = definir_mejores_hiperparametros_gaussian(X_discretas, y)\n",
    "print(mejor_combinacion)"
   ]
  },
  {
   "cell_type": "code",
   "execution_count": 22,
   "metadata": {},
   "outputs": [
    {
     "data": {
      "text/plain": [
       "GaussianNB(var_smoothing=0.001)"
      ]
     },
     "execution_count": 22,
     "metadata": {},
     "output_type": "execute_result"
    }
   ],
   "source": [
    "parametros_gaussianNB = mejor_combinacion.loc[:].values[0]\n",
    "gaussianNB = GaussianNB(var_smoothing=parametros_gaussianNB[0])\n",
    "gaussianNB.fit(X_train, y_train)"
   ]
  },
  {
   "cell_type": "code",
   "execution_count": 23,
   "metadata": {},
   "outputs": [
    {
     "name": "stdout",
     "output_type": "stream",
     "text": [
      "                                 precision    recall  f1-score   support\n",
      "\n",
      "No Tiene Alto Valor Adquisitivo       0.82      0.94      0.87      6159\n",
      "   Tiene Alto Valor Adquisitivo       0.65      0.36      0.46      1982\n",
      "\n",
      "                       accuracy                           0.80      8141\n",
      "                      macro avg       0.73      0.65      0.67      8141\n",
      "                   weighted avg       0.78      0.80      0.77      8141\n",
      "\n"
     ]
    },
    {
     "data": {
      "image/png": "[encoded data removed]",
      "text/plain": [
       "<Figure size 1080x720 with 1 Axes>"
      ]
     },
     "metadata": {
      "needs_background": "light"
     },
     "output_type": "display_data"
    },
    {
     "data": {
      "text/plain": [
       "0.815661295874594"
      ]
     },
     "metadata": {},
     "output_type": "display_data"
    }
   ],
   "source": [
    "y_pred = gaussianNB.predict(X_test)\n",
    "y_pred_proba = gaussianNB.predict_proba(X_test)[:,1]\n",
    "print(classification_report(y_test, y_pred, target_names=['No Tiene Alto Valor Adquisitivo', 'Tiene Alto Valor Adquisitivo']))\n",
    "graficar_auc_roc(y_test,y_pred_proba)"
   ]
  },
  {
   "cell_type": "code",
   "execution_count": null,
   "metadata": {},
   "outputs": [],
   "source": []
  },
  {
   "cell_type": "code",
   "execution_count": 24,
   "metadata": {},
   "outputs": [],
   "source": [
    "X_numericas = traer_variables_numericas(X)\n",
    "X_train, X_test, y_train, y_test = train_test_split(X_numericas, y, test_size=0.25, random_state=0)"
   ]
  },
  {
   "cell_type": "code",
   "execution_count": 25,
   "metadata": {},
   "outputs": [
    {
     "name": "stdout",
     "output_type": "stream",
     "text": [
      "1e-09\n",
      "0.8287347288999445\n",
      "1e-09\n",
      "0.8289684388621954\n",
      "1e-09\n",
      "0.8415662950556435\n",
      "1e-09\n",
      "0.8354817579337561\n",
      "1e-09\n",
      "0.8432071212890496\n",
      "Promedio de la combinación: 0.8355916684081178\n",
      "1e-08\n",
      "0.8292238269381895\n",
      "1e-08\n",
      "0.8291943104608349\n",
      "1e-08\n",
      "0.8416595589995708\n",
      "1e-08\n",
      "0.8351649443151048\n",
      "1e-08\n",
      "0.8432966443555578\n",
      "Promedio de la combinación: 0.8357078570138515\n",
      "1e-07\n",
      "0.8274043409835795\n",
      "1e-07\n",
      "0.8261244690533982\n",
      "1e-07\n",
      "0.8378028433764282\n",
      "1e-07\n",
      "0.8302748435539264\n",
      "1e-07\n",
      "0.8401674648925104\n",
      "Promedio de la combinación: 0.8323547923719685\n",
      "1e-06\n",
      "0.8053313748785633\n",
      "1e-06\n",
      "0.8002542377691368\n",
      "1e-06\n",
      "0.8121375863755698\n",
      "1e-06\n",
      "0.8024943138663232\n",
      "1e-06\n",
      "0.8157410832961827\n",
      "Promedio de la combinación: 0.807191719237155\n",
      "1e-05\n",
      "0.7825603418581291\n",
      "1e-05\n",
      "0.7747404218058582\n",
      "1e-05\n",
      "0.7866881393030513\n",
      "1e-05\n",
      "0.7775578829832905\n",
      "1e-05\n",
      "0.7949545754284724\n",
      "Promedio de la combinación: 0.7833002722757604\n",
      "0.0001\n",
      "0.7745689904108939\n",
      "0.0001\n",
      "0.767682160090978\n",
      "0.0001\n",
      "0.7787040749248729\n",
      "0.0001\n",
      "0.7691245263275213\n",
      "0.0001\n",
      "0.7889068665997951\n",
      "Promedio de la combinación: 0.7757973236708123\n",
      "0.001\n",
      "0.7737333727293166\n",
      "0.001\n",
      "0.7669285667847237\n",
      "0.001\n",
      "0.7779124278655637\n",
      "0.001\n",
      "0.7683179157585364\n",
      "0.001\n",
      "0.7882620167302358\n",
      "Promedio de la combinación: 0.7750308599736753\n",
      "      smoothing    rocauc\n",
      "1  1.000000e-08  0.835708\n"
     ]
    }
   ],
   "source": [
    "mejor_combinacion = definir_mejores_hiperparametros_gaussian(X_numericas, y)\n",
    "print(mejor_combinacion)"
   ]
  },
  {
   "cell_type": "code",
   "execution_count": 26,
   "metadata": {},
   "outputs": [
    {
     "data": {
      "text/plain": [
       "GaussianNB(var_smoothing=1e-08)"
      ]
     },
     "execution_count": 26,
     "metadata": {},
     "output_type": "execute_result"
    }
   ],
   "source": [
    "parametros_gaussianNB = mejor_combinacion.loc[:].values[0]\n",
    "gaussianNB = GaussianNB(var_smoothing=parametros_gaussianNB[0])\n",
    "gaussianNB.fit(X_train, y_train)"
   ]
  },
  {
   "cell_type": "code",
   "execution_count": 27,
   "metadata": {},
   "outputs": [
    {
     "name": "stdout",
     "output_type": "stream",
     "text": [
      "                                 precision    recall  f1-score   support\n",
      "\n",
      "No Tiene Alto Valor Adquisitivo       0.80      0.98      0.88      6159\n",
      "   Tiene Alto Valor Adquisitivo       0.76      0.23      0.35      1982\n",
      "\n",
      "                       accuracy                           0.80      8141\n",
      "                      macro avg       0.78      0.60      0.62      8141\n",
      "                   weighted avg       0.79      0.80      0.75      8141\n",
      "\n"
     ]
    },
    {
     "data": {
      "image/png": "[encoded data removed]",
      "text/plain": [
       "<Figure size 1080x720 with 1 Axes>"
      ]
     },
     "metadata": {
      "needs_background": "light"
     },
     "output_type": "display_data"
    },
    {
     "data": {
      "text/plain": [
       "0.840012826921429"
      ]
     },
     "metadata": {},
     "output_type": "display_data"
    }
   ],
   "source": [
    "y_pred = gaussianNB.predict(X_test)\n",
    "y_pred_proba = gaussianNB.predict_proba(X_test)[:,1]\n",
    "print(classification_report(y_test, y_pred, target_names=['No Tiene Alto Valor Adquisitivo', 'Tiene Alto Valor Adquisitivo']))\n",
    "graficar_auc_roc(y_test,y_pred_proba)"
   ]
  },
  {
   "cell_type": "code",
   "execution_count": 28,
   "metadata": {},
   "outputs": [],
   "source": [
    "probabilidades_gaussian = gaussianNB.predict_proba(X_train)\n",
    "probabilidades_x_test_gaussian = gaussianNB.predict_proba(X_test)"
   ]
  },
  {
   "cell_type": "markdown",
   "metadata": {},
   "source": [
    "# Ensamble Gaussiano"
   ]
  },
  {
   "cell_type": "code",
   "execution_count": 34,
   "metadata": {},
   "outputs": [],
   "source": [
    "def definir_mejores_hiperparametros_ensamble(arrayProbabilidades, y):    \n",
    "    metrics = []\n",
    "    y_array=np.array(y)    \n",
    "    for smoothing in [0.000000001,0.00000001,0.0000001,0.000001,0.00001,0.0001,0.001]:\n",
    "        kf = StratifiedKFold(n_splits=5)\n",
    "        metricas_de_la_combinacion = []\n",
    "        for fold_index, (train_index, test_index) in enumerate(kf.split(X, y_array)):\n",
    "            print(smoothing)\n",
    "            gaussianNB = GaussianNB(var_smoothing = smoothing)\n",
    "            gaussianNB.fit(arrayProbabilidades[train_index], y.iloc[train_index])\n",
    "            y_pred = gaussianNB.predict_proba(arrayProbabilidades[test_index])[:,1]\n",
    "            metricas_de_la_combinacion.append(roc_auc_score(y.iloc[test_index], y_pred))\n",
    "            print(roc_auc_score(y.iloc[test_index], y_pred))\n",
    "\n",
    "        print(f\"Promedio de la combinación: {np.mean(metricas_de_la_combinacion)}\")\n",
    "        metrics.append((smoothing,np.mean(metricas_de_la_combinacion)))\n",
    "                    \n",
    "    df_metrics = pd.DataFrame(metrics, columns = ['smoothing','rocauc'])\n",
    "    mejor_combinacion = df_metrics[df_metrics[\"rocauc\"] ==  max(df_metrics.rocauc)]\n",
    "    return mejor_combinacion"
   ]
  },
  {
   "cell_type": "code",
   "execution_count": 35,
   "metadata": {},
   "outputs": [],
   "source": [
    "probabilidades_x_train = np.hstack(( probabilidades_categorical , probabilidades_gaussian))\n",
    "probabilidades_x_test = np.hstack(( probabilidades_x_test_categorical , probabilidades_x_test_gaussian))"
   ]
  },
  {
   "cell_type": "code",
   "execution_count": 36,
   "metadata": {},
   "outputs": [
    {
     "name": "stdout",
     "output_type": "stream",
     "text": [
      "1e-09\n",
      "[[4.96310433e-02 9.50368957e-01 8.93133712e-01 1.06866288e-01]\n",
      " [9.99341213e-01 6.58787232e-04 9.03853493e-01 9.61465073e-02]\n",
      " [2.71802823e-02 9.72819718e-01 9.78526090e-01 2.14739102e-02]\n",
      " ...\n",
      " [8.49722958e-01 1.50277042e-01 9.85576051e-01 1.44239495e-02]\n",
      " [1.09316779e-02 9.89068322e-01 9.05027922e-01 9.49720779e-02]\n",
      " [9.99295640e-01 7.04359844e-04 9.73701489e-01 2.62985108e-02]]\n",
      "0.5058202537637603\n",
      "1e-09\n",
      "[[9.99547798e-01 4.52202320e-04 9.87993171e-01 1.20068290e-02]\n",
      " [9.97586226e-01 2.41377433e-03 9.85879079e-01 1.41209207e-02]\n",
      " [1.33811699e-02 9.86618830e-01 9.27995898e-01 7.20041015e-02]\n",
      " ...\n",
      " [8.49722958e-01 1.50277042e-01 9.85576051e-01 1.44239495e-02]\n",
      " [1.09316779e-02 9.89068322e-01 9.05027922e-01 9.49720779e-02]\n",
      " [9.99295640e-01 7.04359844e-04 9.73701489e-01 2.62985108e-02]]\n",
      "0.5081048689196552\n",
      "1e-09\n",
      "[[9.99547798e-01 4.52202320e-04 9.87993171e-01 1.20068290e-02]\n",
      " [9.97586226e-01 2.41377433e-03 9.85879079e-01 1.41209207e-02]\n",
      " [1.33811699e-02 9.86618830e-01 9.27995898e-01 7.20041015e-02]\n",
      " ...\n",
      " [8.49722958e-01 1.50277042e-01 9.85576051e-01 1.44239495e-02]\n",
      " [1.09316779e-02 9.89068322e-01 9.05027922e-01 9.49720779e-02]\n",
      " [9.99295640e-01 7.04359844e-04 9.73701489e-01 2.62985108e-02]]\n",
      "0.4989236592695331\n",
      "1e-09\n",
      "[[9.99547798e-01 4.52202320e-04 9.87993171e-01 1.20068290e-02]\n",
      " [9.97586226e-01 2.41377433e-03 9.85879079e-01 1.41209207e-02]\n",
      " [1.33811699e-02 9.86618830e-01 9.27995898e-01 7.20041015e-02]\n",
      " ...\n",
      " [8.49722958e-01 1.50277042e-01 9.85576051e-01 1.44239495e-02]\n",
      " [1.09316779e-02 9.89068322e-01 9.05027922e-01 9.49720779e-02]\n",
      " [9.99295640e-01 7.04359844e-04 9.73701489e-01 2.62985108e-02]]\n",
      "0.4961027152062282\n",
      "1e-09\n",
      "[[9.99547798e-01 4.52202320e-04 9.87993171e-01 1.20068290e-02]\n",
      " [9.97586226e-01 2.41377433e-03 9.85879079e-01 1.41209207e-02]\n",
      " [1.33811699e-02 9.86618830e-01 9.27995898e-01 7.20041015e-02]\n",
      " ...\n",
      " [4.01209419e-01 5.98790581e-01 9.82164339e-01 1.78356609e-02]\n",
      " [9.99560502e-01 4.39498233e-04 9.78249399e-01 2.17506013e-02]\n",
      " [9.99737028e-01 2.62971613e-04 9.98908315e-01 1.09168480e-03]]\n",
      "0.5042337702678159\n",
      "Promedio de la combinación: 0.5026370534853986\n",
      "1e-08\n",
      "[[4.96310433e-02 9.50368957e-01 8.93133712e-01 1.06866288e-01]\n",
      " [9.99341213e-01 6.58787232e-04 9.03853493e-01 9.61465073e-02]\n",
      " [2.71802823e-02 9.72819718e-01 9.78526090e-01 2.14739102e-02]\n",
      " ...\n",
      " [8.49722958e-01 1.50277042e-01 9.85576051e-01 1.44239495e-02]\n",
      " [1.09316779e-02 9.89068322e-01 9.05027922e-01 9.49720779e-02]\n",
      " [9.99295640e-01 7.04359844e-04 9.73701489e-01 2.62985108e-02]]\n",
      "0.5058203182205391\n",
      "1e-08\n",
      "[[9.99547798e-01 4.52202320e-04 9.87993171e-01 1.20068290e-02]\n",
      " [9.97586226e-01 2.41377433e-03 9.85879079e-01 1.41209207e-02]\n",
      " [1.33811699e-02 9.86618830e-01 9.27995898e-01 7.20041015e-02]\n",
      " ...\n",
      " [8.49722958e-01 1.50277042e-01 9.85576051e-01 1.44239495e-02]\n",
      " [1.09316779e-02 9.89068322e-01 9.05027922e-01 9.49720779e-02]\n",
      " [9.99295640e-01 7.04359844e-04 9.73701489e-01 2.62985108e-02]]\n",
      "0.5081048689196552\n",
      "1e-08\n",
      "[[9.99547798e-01 4.52202320e-04 9.87993171e-01 1.20068290e-02]\n",
      " [9.97586226e-01 2.41377433e-03 9.85879079e-01 1.41209207e-02]\n",
      " [1.33811699e-02 9.86618830e-01 9.27995898e-01 7.20041015e-02]\n",
      " ...\n",
      " [8.49722958e-01 1.50277042e-01 9.85576051e-01 1.44239495e-02]\n",
      " [1.09316779e-02 9.89068322e-01 9.05027922e-01 9.49720779e-02]\n",
      " [9.99295640e-01 7.04359844e-04 9.73701489e-01 2.62985108e-02]]\n",
      "0.4989236592695331\n",
      "1e-08\n",
      "[[9.99547798e-01 4.52202320e-04 9.87993171e-01 1.20068290e-02]\n",
      " [9.97586226e-01 2.41377433e-03 9.85879079e-01 1.41209207e-02]\n",
      " [1.33811699e-02 9.86618830e-01 9.27995898e-01 7.20041015e-02]\n",
      " ...\n",
      " [8.49722958e-01 1.50277042e-01 9.85576051e-01 1.44239495e-02]\n",
      " [1.09316779e-02 9.89068322e-01 9.05027922e-01 9.49720779e-02]\n",
      " [9.99295640e-01 7.04359844e-04 9.73701489e-01 2.62985108e-02]]\n",
      "0.49610271520622806\n",
      "1e-08\n",
      "[[9.99547798e-01 4.52202320e-04 9.87993171e-01 1.20068290e-02]\n",
      " [9.97586226e-01 2.41377433e-03 9.85879079e-01 1.41209207e-02]\n",
      " [1.33811699e-02 9.86618830e-01 9.27995898e-01 7.20041015e-02]\n",
      " ...\n",
      " [4.01209419e-01 5.98790581e-01 9.82164339e-01 1.78356609e-02]\n",
      " [9.99560502e-01 4.39498233e-04 9.78249399e-01 2.17506013e-02]\n",
      " [9.99737028e-01 2.62971613e-04 9.98908315e-01 1.09168480e-03]]\n",
      "0.5042337702678159\n",
      "Promedio de la combinación: 0.5026370663767543\n",
      "1e-07\n",
      "[[4.96310433e-02 9.50368957e-01 8.93133712e-01 1.06866288e-01]\n",
      " [9.99341213e-01 6.58787232e-04 9.03853493e-01 9.61465073e-02]\n",
      " [2.71802823e-02 9.72819718e-01 9.78526090e-01 2.14739102e-02]\n",
      " ...\n",
      " [8.49722958e-01 1.50277042e-01 9.85576051e-01 1.44239495e-02]\n",
      " [1.09316779e-02 9.89068322e-01 9.05027922e-01 9.49720779e-02]\n",
      " [9.99295640e-01 7.04359844e-04 9.73701489e-01 2.62985108e-02]]\n",
      "0.5058199959366447\n",
      "1e-07\n",
      "[[9.99547798e-01 4.52202320e-04 9.87993171e-01 1.20068290e-02]\n",
      " [9.97586226e-01 2.41377433e-03 9.85879079e-01 1.41209207e-02]\n",
      " [1.33811699e-02 9.86618830e-01 9.27995898e-01 7.20041015e-02]\n",
      " ...\n",
      " [8.49722958e-01 1.50277042e-01 9.85576051e-01 1.44239495e-02]\n",
      " [1.09316779e-02 9.89068322e-01 9.05027922e-01 9.49720779e-02]\n",
      " [9.99295640e-01 7.04359844e-04 9.73701489e-01 2.62985108e-02]]\n",
      "0.508104481932336\n",
      "1e-07\n",
      "[[9.99547798e-01 4.52202320e-04 9.87993171e-01 1.20068290e-02]\n",
      " [9.97586226e-01 2.41377433e-03 9.85879079e-01 1.41209207e-02]\n",
      " [1.33811699e-02 9.86618830e-01 9.27995898e-01 7.20041015e-02]\n",
      " ...\n",
      " [8.49722958e-01 1.50277042e-01 9.85576051e-01 1.44239495e-02]\n",
      " [1.09316779e-02 9.89068322e-01 9.05027922e-01 9.49720779e-02]\n",
      " [9.99295640e-01 7.04359844e-04 9.73701489e-01 2.62985108e-02]]\n",
      "0.4989236592695331\n",
      "1e-07\n",
      "[[9.99547798e-01 4.52202320e-04 9.87993171e-01 1.20068290e-02]\n",
      " [9.97586226e-01 2.41377433e-03 9.85879079e-01 1.41209207e-02]\n",
      " [1.33811699e-02 9.86618830e-01 9.27995898e-01 7.20041015e-02]\n",
      " ...\n",
      " [8.49722958e-01 1.50277042e-01 9.85576051e-01 1.44239495e-02]\n",
      " [1.09316779e-02 9.89068322e-01 9.05027922e-01 9.49720779e-02]\n",
      " [9.99295640e-01 7.04359844e-04 9.73701489e-01 2.62985108e-02]]\n",
      "0.4961025862104551\n",
      "1e-07\n",
      "[[9.99547798e-01 4.52202320e-04 9.87993171e-01 1.20068290e-02]\n",
      " [9.97586226e-01 2.41377433e-03 9.85879079e-01 1.41209207e-02]\n",
      " [1.33811699e-02 9.86618830e-01 9.27995898e-01 7.20041015e-02]\n",
      " ...\n",
      " [4.01209419e-01 5.98790581e-01 9.82164339e-01 1.78356609e-02]\n",
      " [9.99560502e-01 4.39498233e-04 9.78249399e-01 2.17506013e-02]\n",
      " [9.99737028e-01 2.62971613e-04 9.98908315e-01 1.09168480e-03]]\n",
      "0.5042336412720427\n",
      "Promedio de la combinación: 0.5026368729242023\n",
      "1e-06\n",
      "[[4.96310433e-02 9.50368957e-01 8.93133712e-01 1.06866288e-01]\n",
      " [9.99341213e-01 6.58787232e-04 9.03853493e-01 9.61465073e-02]\n",
      " [2.71802823e-02 9.72819718e-01 9.78526090e-01 2.14739102e-02]\n",
      " ...\n",
      " [8.49722958e-01 1.50277042e-01 9.85576051e-01 1.44239495e-02]\n",
      " [1.09316779e-02 9.89068322e-01 9.05027922e-01 9.49720779e-02]\n",
      " [9.99295640e-01 7.04359844e-04 9.73701489e-01 2.62985108e-02]]\n",
      "0.5058201893069814\n",
      "1e-06\n",
      "[[9.99547798e-01 4.52202320e-04 9.87993171e-01 1.20068290e-02]\n",
      " [9.97586226e-01 2.41377433e-03 9.85879079e-01 1.41209207e-02]\n",
      " [1.33811699e-02 9.86618830e-01 9.27995898e-01 7.20041015e-02]\n",
      " ...\n",
      " [8.49722958e-01 1.50277042e-01 9.85576051e-01 1.44239495e-02]\n",
      " [1.09316779e-02 9.89068322e-01 9.05027922e-01 9.49720779e-02]\n",
      " [9.99295640e-01 7.04359844e-04 9.73701489e-01 2.62985108e-02]]\n",
      "0.5081049979154284\n",
      "1e-06\n",
      "[[9.99547798e-01 4.52202320e-04 9.87993171e-01 1.20068290e-02]\n",
      " [9.97586226e-01 2.41377433e-03 9.85879079e-01 1.41209207e-02]\n",
      " [1.33811699e-02 9.86618830e-01 9.27995898e-01 7.20041015e-02]\n",
      " ...\n",
      " [8.49722958e-01 1.50277042e-01 9.85576051e-01 1.44239495e-02]\n",
      " [1.09316779e-02 9.89068322e-01 9.05027922e-01 9.49720779e-02]\n",
      " [9.99295640e-01 7.04359844e-04 9.73701489e-01 2.62985108e-02]]\n",
      "0.49892423975051187\n",
      "1e-06\n",
      "[[9.99547798e-01 4.52202320e-04 9.87993171e-01 1.20068290e-02]\n",
      " [9.97586226e-01 2.41377433e-03 9.85879079e-01 1.41209207e-02]\n",
      " [1.33811699e-02 9.86618830e-01 9.27995898e-01 7.20041015e-02]\n",
      " ...\n",
      " [8.49722958e-01 1.50277042e-01 9.85576051e-01 1.44239495e-02]\n",
      " [1.09316779e-02 9.89068322e-01 9.05027922e-01 9.49720779e-02]\n",
      " [9.99295640e-01 7.04359844e-04 9.73701489e-01 2.62985108e-02]]\n",
      "0.49610284420200124\n",
      "1e-06\n",
      "[[9.99547798e-01 4.52202320e-04 9.87993171e-01 1.20068290e-02]\n",
      " [9.97586226e-01 2.41377433e-03 9.85879079e-01 1.41209207e-02]\n",
      " [1.33811699e-02 9.86618830e-01 9.27995898e-01 7.20041015e-02]\n",
      " ...\n",
      " [4.01209419e-01 5.98790581e-01 9.82164339e-01 1.78356609e-02]\n",
      " [9.99560502e-01 4.39498233e-04 9.78249399e-01 2.17506013e-02]\n",
      " [9.99737028e-01 2.62971613e-04 9.98908315e-01 1.09168480e-03]]\n",
      "0.504234028259362\n",
      "Promedio de la combinación: 0.5026372598868569\n",
      "1e-05\n",
      "[[4.96310433e-02 9.50368957e-01 8.93133712e-01 1.06866288e-01]\n",
      " [9.99341213e-01 6.58787232e-04 9.03853493e-01 9.61465073e-02]\n",
      " [2.71802823e-02 9.72819718e-01 9.78526090e-01 2.14739102e-02]\n",
      " ...\n",
      " [8.49722958e-01 1.50277042e-01 9.85576051e-01 1.44239495e-02]\n",
      " [1.09316779e-02 9.89068322e-01 9.05027922e-01 9.49720779e-02]\n",
      " [9.99295640e-01 7.04359844e-04 9.73701489e-01 2.62985108e-02]]\n",
      "0.5058196736527503\n",
      "1e-05\n",
      "[[9.99547798e-01 4.52202320e-04 9.87993171e-01 1.20068290e-02]\n",
      " [9.97586226e-01 2.41377433e-03 9.85879079e-01 1.41209207e-02]\n",
      " [1.33811699e-02 9.86618830e-01 9.27995898e-01 7.20041015e-02]\n",
      " ...\n",
      " [8.49722958e-01 1.50277042e-01 9.85576051e-01 1.44239495e-02]\n",
      " [1.09316779e-02 9.89068322e-01 9.05027922e-01 9.49720779e-02]\n",
      " [9.99295640e-01 7.04359844e-04 9.73701489e-01 2.62985108e-02]]\n",
      "0.5081051269112014\n",
      "1e-05\n",
      "[[9.99547798e-01 4.52202320e-04 9.87993171e-01 1.20068290e-02]\n",
      " [9.97586226e-01 2.41377433e-03 9.85879079e-01 1.41209207e-02]\n",
      " [1.33811699e-02 9.86618830e-01 9.27995898e-01 7.20041015e-02]\n",
      " ...\n",
      " [8.49722958e-01 1.50277042e-01 9.85576051e-01 1.44239495e-02]\n",
      " [1.09316779e-02 9.89068322e-01 9.05027922e-01 9.49720779e-02]\n",
      " [9.99295640e-01 7.04359844e-04 9.73701489e-01 2.62985108e-02]]\n",
      "0.49892417525262533\n",
      "1e-05\n",
      "[[9.99547798e-01 4.52202320e-04 9.87993171e-01 1.20068290e-02]\n",
      " [9.97586226e-01 2.41377433e-03 9.85879079e-01 1.41209207e-02]\n",
      " [1.33811699e-02 9.86618830e-01 9.27995898e-01 7.20041015e-02]\n",
      " ...\n",
      " [8.49722958e-01 1.50277042e-01 9.85576051e-01 1.44239495e-02]\n",
      " [1.09316779e-02 9.89068322e-01 9.05027922e-01 9.49720779e-02]\n",
      " [9.99295640e-01 7.04359844e-04 9.73701489e-01 2.62985108e-02]]\n",
      "0.4961012962527245\n",
      "1e-05\n",
      "[[9.99547798e-01 4.52202320e-04 9.87993171e-01 1.20068290e-02]\n",
      " [9.97586226e-01 2.41377433e-03 9.85879079e-01 1.41209207e-02]\n",
      " [1.33811699e-02 9.86618830e-01 9.27995898e-01 7.20041015e-02]\n",
      " ...\n",
      " [4.01209419e-01 5.98790581e-01 9.82164339e-01 1.78356609e-02]\n",
      " [9.99560502e-01 4.39498233e-04 9.78249399e-01 2.17506013e-02]\n",
      " [9.99737028e-01 2.62971613e-04 9.98908315e-01 1.09168480e-03]]\n",
      "0.5042324803100853\n",
      "Promedio de la combinación: 0.5026365504758774\n",
      "0.0001\n",
      "[[4.96310433e-02 9.50368957e-01 8.93133712e-01 1.06866288e-01]\n",
      " [9.99341213e-01 6.58787232e-04 9.03853493e-01 9.61465073e-02]\n",
      " [2.71802823e-02 9.72819718e-01 9.78526090e-01 2.14739102e-02]\n",
      " ...\n",
      " [8.49722958e-01 1.50277042e-01 9.85576051e-01 1.44239495e-02]\n",
      " [1.09316779e-02 9.89068322e-01 9.05027922e-01 9.49720779e-02]\n",
      " [9.99295640e-01 7.04359844e-04 9.73701489e-01 2.62985108e-02]]\n",
      "0.5058230254052527\n",
      "0.0001\n",
      "[[9.99547798e-01 4.52202320e-04 9.87993171e-01 1.20068290e-02]\n",
      " [9.97586226e-01 2.41377433e-03 9.85879079e-01 1.41209207e-02]\n",
      " [1.33811699e-02 9.86618830e-01 9.27995898e-01 7.20041015e-02]\n",
      " ...\n",
      " [8.49722958e-01 1.50277042e-01 9.85576051e-01 1.44239495e-02]\n",
      " [1.09316779e-02 9.89068322e-01 9.05027922e-01 9.49720779e-02]\n",
      " [9.99295640e-01 7.04359844e-04 9.73701489e-01 2.62985108e-02]]\n",
      "0.5081002250718248\n",
      "0.0001\n",
      "[[9.99547798e-01 4.52202320e-04 9.87993171e-01 1.20068290e-02]\n",
      " [9.97586226e-01 2.41377433e-03 9.85879079e-01 1.41209207e-02]\n",
      " [1.33811699e-02 9.86618830e-01 9.27995898e-01 7.20041015e-02]\n",
      " ...\n",
      " [8.49722958e-01 1.50277042e-01 9.85576051e-01 1.44239495e-02]\n",
      " [1.09316779e-02 9.89068322e-01 9.05027922e-01 9.49720779e-02]\n",
      " [9.99295640e-01 7.04359844e-04 9.73701489e-01 2.62985108e-02]]\n",
      "0.49892701315963284\n",
      "0.0001\n",
      "[[9.99547798e-01 4.52202320e-04 9.87993171e-01 1.20068290e-02]\n",
      " [9.97586226e-01 2.41377433e-03 9.85879079e-01 1.41209207e-02]\n",
      " [1.33811699e-02 9.86618830e-01 9.27995898e-01 7.20041015e-02]\n",
      " ...\n",
      " [8.49722958e-01 1.50277042e-01 9.85576051e-01 1.44239495e-02]\n",
      " [1.09316779e-02 9.89068322e-01 9.05027922e-01 9.49720779e-02]\n",
      " [9.99295640e-01 7.04359844e-04 9.73701489e-01 2.62985108e-02]]\n",
      "0.49610523062380296\n",
      "0.0001\n",
      "[[9.99547798e-01 4.52202320e-04 9.87993171e-01 1.20068290e-02]\n",
      " [9.97586226e-01 2.41377433e-03 9.85879079e-01 1.41209207e-02]\n",
      " [1.33811699e-02 9.86618830e-01 9.27995898e-01 7.20041015e-02]\n",
      " ...\n",
      " [4.01209419e-01 5.98790581e-01 9.82164339e-01 1.78356609e-02]\n",
      " [9.99560502e-01 4.39498233e-04 9.78249399e-01 2.17506013e-02]\n",
      " [9.99737028e-01 2.62971613e-04 9.98908315e-01 1.09168480e-03]]\n",
      "0.5042305453734892\n",
      "Promedio de la combinación: 0.5026372079268004\n",
      "0.001\n",
      "[[4.96310433e-02 9.50368957e-01 8.93133712e-01 1.06866288e-01]\n",
      " [9.99341213e-01 6.58787232e-04 9.03853493e-01 9.61465073e-02]\n",
      " [2.71802823e-02 9.72819718e-01 9.78526090e-01 2.14739102e-02]\n",
      " ...\n",
      " [8.49722958e-01 1.50277042e-01 9.85576051e-01 1.44239495e-02]\n",
      " [1.09316779e-02 9.89068322e-01 9.05027922e-01 9.49720779e-02]\n",
      " [9.99295640e-01 7.04359844e-04 9.73701489e-01 2.62985108e-02]]\n",
      "0.505842169068584\n",
      "0.001\n",
      "[[9.99547798e-01 4.52202320e-04 9.87993171e-01 1.20068290e-02]\n",
      " [9.97586226e-01 2.41377433e-03 9.85879079e-01 1.41209207e-02]\n",
      " [1.33811699e-02 9.86618830e-01 9.27995898e-01 7.20041015e-02]\n",
      " ...\n",
      " [8.49722958e-01 1.50277042e-01 9.85576051e-01 1.44239495e-02]\n",
      " [1.09316779e-02 9.89068322e-01 9.05027922e-01 9.49720779e-02]\n",
      " [9.99295640e-01 7.04359844e-04 9.73701489e-01 2.62985108e-02]]\n",
      "0.5080860355367876\n",
      "0.001\n",
      "[[9.99547798e-01 4.52202320e-04 9.87993171e-01 1.20068290e-02]\n",
      " [9.97586226e-01 2.41377433e-03 9.85879079e-01 1.41209207e-02]\n",
      " [1.33811699e-02 9.86618830e-01 9.27995898e-01 7.20041015e-02]\n",
      " ...\n",
      " [8.49722958e-01 1.50277042e-01 9.85576051e-01 1.44239495e-02]\n",
      " [1.09316779e-02 9.89068322e-01 9.05027922e-01 9.49720779e-02]\n",
      " [9.99295640e-01 7.04359844e-04 9.73701489e-01 2.62985108e-02]]\n",
      "0.4989415896819893\n",
      "0.001\n",
      "[[9.99547798e-01 4.52202320e-04 9.87993171e-01 1.20068290e-02]\n",
      " [9.97586226e-01 2.41377433e-03 9.85879079e-01 1.41209207e-02]\n",
      " [1.33811699e-02 9.86618830e-01 9.27995898e-01 7.20041015e-02]\n",
      " ...\n",
      " [8.49722958e-01 1.50277042e-01 9.85576051e-01 1.44239495e-02]\n",
      " [1.09316779e-02 9.89068322e-01 9.05027922e-01 9.49720779e-02]\n",
      " [9.99295640e-01 7.04359844e-04 9.73701489e-01 2.62985108e-02]]\n",
      "0.49610142524849743\n",
      "0.001\n",
      "[[9.99547798e-01 4.52202320e-04 9.87993171e-01 1.20068290e-02]\n",
      " [9.97586226e-01 2.41377433e-03 9.85879079e-01 1.41209207e-02]\n",
      " [1.33811699e-02 9.86618830e-01 9.27995898e-01 7.20041015e-02]\n",
      " ...\n",
      " [4.01209419e-01 5.98790581e-01 9.82164339e-01 1.78356609e-02]\n",
      " [9.99560502e-01 4.39498233e-04 9.78249399e-01 2.17506013e-02]\n",
      " [9.99737028e-01 2.62971613e-04 9.98908315e-01 1.09168480e-03]]\n",
      "0.5042189357539132\n",
      "Promedio de la combinación: 0.5026380310579543\n",
      "   smoothing    rocauc\n",
      "6      0.001  0.502638\n"
     ]
    }
   ],
   "source": [
    "X_ensamble_gaussiano = np.vstack((probabilidades_x_train,probabilidades_x_test))\n",
    "mejor_combinacion = definir_mejores_hiperparametros_ensamble(X_ensamble_gaussiano, y)\n",
    "print(mejor_combinacion)"
   ]
  },
  {
   "cell_type": "code",
   "execution_count": 32,
   "metadata": {},
   "outputs": [
    {
     "data": {
      "text/plain": [
       "GaussianNB(var_smoothing=0.001)"
      ]
     },
     "execution_count": 32,
     "metadata": {},
     "output_type": "execute_result"
    }
   ],
   "source": [
    "parametros_gaussianNB = mejor_combinacion.loc[:].values[0]\n",
    "ensambleGaussiano = GaussianNB(var_smoothing=parametros_gaussianNB[0])\n",
    "ensambleGaussiano.fit(probabilidades_x_train, y_train)"
   ]
  },
  {
   "cell_type": "code",
   "execution_count": 33,
   "metadata": {},
   "outputs": [
    {
     "name": "stdout",
     "output_type": "stream",
     "text": [
      "                                 precision    recall  f1-score   support\n",
      "\n",
      "No Tiene Alto Valor Adquisitivo       0.88      0.89      0.89      6159\n",
      "   Tiene Alto Valor Adquisitivo       0.65      0.63      0.64      1982\n",
      "\n",
      "                       accuracy                           0.83      8141\n",
      "                      macro avg       0.77      0.76      0.76      8141\n",
      "                   weighted avg       0.83      0.83      0.83      8141\n",
      "\n"
     ]
    },
    {
     "data": {
      "image/png": "[encoded data removed]",
      "text/plain": [
       "<Figure size 1080x720 with 1 Axes>"
      ]
     },
     "metadata": {
      "needs_background": "light"
     },
     "output_type": "display_data"
    },
    {
     "data": {
      "text/plain": [
       "0.8753559597671461"
      ]
     },
     "metadata": {},
     "output_type": "display_data"
    }
   ],
   "source": [
    "y_pred = ensambleGaussiano.predict(probabilidades_x_test)\n",
    "y_pred_proba = ensambleGaussiano.predict_proba(probabilidades_x_test)[:,1]\n",
    "print(classification_report(y_test, y_pred, target_names=['No Tiene Alto Valor Adquisitivo', 'Tiene Alto Valor Adquisitivo']))\n",
    "graficar_auc_roc(y_test,y_pred_proba)"
   ]
  },
  {
   "cell_type": "code",
   "execution_count": null,
   "metadata": {},
   "outputs": [],
   "source": []
  },
  {
   "cell_type": "code",
   "execution_count": null,
   "metadata": {},
   "outputs": [],
   "source": []
  },
  {
   "cell_type": "code",
   "execution_count": null,
   "metadata": {},
   "outputs": [],
   "source": []
  }
 ],
 "metadata": {
  "kernelspec": {
   "display_name": "Python 3",
   "language": "python",
   "name": "python3"
  },
  "language_info": {
   "codemirror_mode": {
    "name": "ipython",
    "version": 3
   },
   "file_extension": ".py",
   "mimetype": "text/x-python",
   "name": "python",
   "nbconvert_exporter": "python",
   "pygments_lexer": "ipython3",
   "version": "3.8.5"
  }
 },
 "nbformat": 4,
 "nbformat_minor": 4
}
