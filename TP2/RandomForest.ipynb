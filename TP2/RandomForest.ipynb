{
 "cells": [
  {
   "cell_type": "code",
   "execution_count": 1,
   "metadata": {},
   "outputs": [],
   "source": [
    "import pandas as pd\n",
    "import numpy as np"
   ]
  },
  {
   "cell_type": "code",
   "execution_count": 2,
   "metadata": {},
   "outputs": [],
   "source": [
    "from sklearn.model_selection import train_test_split\n",
    "from sklearn.metrics import classification_report\n",
    "from sklearn.model_selection import KFold, StratifiedKFold\n",
    "from sklearn.ensemble import RandomForestClassifier\n",
    "from sklearn.metrics import roc_auc_score"
   ]
  },
  {
   "cell_type": "code",
   "execution_count": 3,
   "metadata": {},
   "outputs": [],
   "source": [
    "from preprocessing import dividir_dataset\n",
    "from preprocessing import preparar_dataset\n",
    "from preprocessing import normalizar_datos"
   ]
  },
  {
   "cell_type": "code",
   "execution_count": 4,
   "metadata": {},
   "outputs": [],
   "source": [
    "from funcionesAuxiliares import graficar_auc_roc\n",
    "from funcionesAuxiliares import traer_df"
   ]
  },
  {
   "cell_type": "code",
   "execution_count": 5,
   "metadata": {},
   "outputs": [],
   "source": [
    "df = traer_df()\n",
    "df = preparar_dataset(df)"
   ]
  },
  {
   "cell_type": "code",
   "execution_count": 6,
   "metadata": {},
   "outputs": [],
   "source": [
    "X, y = dividir_dataset(df)\n",
    "X_train, X_test, y_train, y_test = train_test_split(X, y, test_size=0.25, random_state=0)\n",
    "X_train = normalizar_datos(X_train)"
   ]
  },
  {
   "cell_type": "code",
   "execution_count": 7,
   "metadata": {},
   "outputs": [],
   "source": [
    "def definir_mejores_hiperparametros(X, y):    \n",
    "    metrics = []\n",
    "    for criterio in ['gini', 'entropy']:\n",
    "        for estimadores in [1,10,20,50,100,200]:\n",
    "            for profundidad in [2,3,4,5,6,7,8,9,10]: \n",
    "                kf = KFold(n_splits=5)\n",
    "                for fold_index, (train_index, test_index) in enumerate(kf.split(X)):\n",
    "                    random_forest = RandomForestClassifier(max_depth=profundidad,n_estimators=estimadores,criterion=criterio)\n",
    "                    random_forest.fit(X.iloc[train_index], y.iloc[train_index])\n",
    "                    y_pred = random_forest.predict(X.iloc[test_index])\n",
    "                    metrics.append((profundidad,estimadores,criterio,roc_auc_score(y.iloc[test_index], y_pred)))\n",
    "                \n",
    "    df_metrics = pd.DataFrame(metrics, columns=['profundidad','estimadores','criterio','rocauc'])\n",
    "    mejor_combinacion = df_metrics[df_metrics[\"rocauc\"] ==  max(df_metrics.rocauc)]   \n",
    "    return mejor_combinacion"
   ]
  },
  {
   "cell_type": "code",
   "execution_count": 8,
   "metadata": {},
   "outputs": [],
   "source": [
    "def definir_mejores_hiperparametrosPrueba(X, y):    \n",
    "    metrics = []\n",
    "    for criterio in ['gini', 'entropy']:\n",
    "        for estimadores in [1,10,20]:\n",
    "            for profundidad in [2,3,4]: \n",
    "                kf = KFold(n_splits=5)\n",
    "                metricasDeLaCombinacion = []\n",
    "                for fold_index, (train_index, test_index) in enumerate(kf.split(X)):\n",
    "                    random_forest = RandomForestClassifier(max_depth=profundidad,n_estimators=estimadores,criterion=criterio)\n",
    "                    random_forest.fit(X.iloc[train_index], y.iloc[train_index])\n",
    "                    y_pred = random_forest.predict(X.iloc[test_index])\n",
    "                    metricasDeLaCombinacion.append(roc_auc_score(y.iloc[test_index], y_pred))\n",
    "                    print(roc_auc_score(y.iloc[test_index], y_pred))\n",
    "                print(f\"promedio de la combinacion {np.mean(metricasDeLaCombinacion)}\")\n",
    "                metrics.append((profundidad,estimadores,criterio,np.mean(metricasDeLaCombinacion)))\n",
    "                print(\"termine fold\")\n",
    "    df_metrics = pd.DataFrame(metrics, columns=['profundidad','estimadores','criterio','rocauc'])\n",
    "    mejor_combinacion = df_metrics[df_metrics[\"rocauc\"] ==  max(df_metrics.rocauc)]   \n",
    "    return mejor_combinacion"
   ]
  },
  {
   "cell_type": "code",
   "execution_count": 10,
   "metadata": {},
   "outputs": [
    {
     "name": "stdout",
     "output_type": "stream",
     "text": [
      "0.5\n",
      "0.5\n",
      "0.5946799082741012\n",
      "0.5\n",
      "0.519744503257329\n",
      "promedio de la combinacion 0.522884882306286\n",
      "termine fold\n",
      "0.5935838698165066\n",
      "0.705545595231571\n",
      "0.7187018019854347\n",
      "0.5863233721884258\n",
      "0.5105944625407166\n",
      "promedio de la combinacion 0.6229498203525309\n",
      "termine fold\n",
      "0.7626311081448112\n",
      "0.6875785191042494\n",
      "0.6794577484749315\n",
      "0.6424197377499599\n",
      "0.6731239820846905\n",
      "promedio de la combinacion 0.6890422191117285\n",
      "termine fold\n",
      "0.5333247202485512\n",
      "0.547453332185069\n",
      "0.5419625564880568\n",
      "0.5541953533152184\n",
      "0.5546355863192183\n",
      "promedio de la combinacion 0.5463143097112227\n",
      "termine fold\n",
      "0.6015644915344577\n",
      "0.6144640867252803\n",
      "0.61009358211384\n",
      "0.6709070503780448\n",
      "0.6157105048859935\n",
      "promedio de la combinacion 0.6225479431275233\n",
      "termine fold\n",
      "0.676065164359287\n",
      "0.6462959338390917\n",
      "0.6922379253994081\n",
      "0.6808295354188598\n",
      "0.7071203175895766\n",
      "promedio de la combinacion 0.6805097753212447\n",
      "termine fold\n",
      "0.5342499509479028\n",
      "0.5685406864011565\n",
      "0.5419625564880568\n",
      "0.5\n",
      "0.606051506514658\n",
      "promedio de la combinacion 0.5501609400703549\n",
      "termine fold\n",
      "0.6374339341635883\n",
      "0.6437684472594322\n",
      "0.6622125094322908\n",
      "0.5988607284084003\n",
      "0.6157176302931596\n",
      "promedio de la combinacion 0.6315986499113742\n",
      "termine fold\n",
      "0.7097089163580634\n",
      "0.6805818047063182\n",
      "0.6774162371594993\n",
      "0.6872222847287619\n",
      "0.7034649837133551\n",
      "promedio de la combinacion 0.6916788453331996\n",
      "termine fold\n",
      "0.5\n",
      "0.5242656979490431\n",
      "0.7263234052062734\n",
      "0.5855212762842139\n",
      "0.5\n",
      "promedio de la combinacion 0.5672220758879061\n",
      "termine fold\n",
      "0.49989880590973484\n",
      "0.676098093098148\n",
      "0.600730297682515\n",
      "0.6918793216208066\n",
      "0.5703918973941368\n",
      "promedio de la combinacion 0.6077996831410682\n",
      "termine fold\n",
      "0.5850397283363536\n",
      "0.6978284753919105\n",
      "0.7398801486064664\n",
      "0.6872749443477734\n",
      "0.6838395765472313\n",
      "promedio de la combinacion 0.678772574645947\n",
      "termine fold\n",
      "0.5811213541159731\n",
      "0.5470168612191959\n",
      "0.565526145900581\n",
      "0.5391889031540801\n",
      "0.5440625\n",
      "promedio de la combinacion 0.555383152877966\n",
      "termine fold\n",
      "0.6697613905149464\n",
      "0.6348688760318069\n",
      "0.6837096125271489\n",
      "0.6767017919169284\n",
      "0.7014525651465797\n",
      "promedio de la combinacion 0.6732988472274821\n",
      "termine fold\n",
      "0.6382434868857093\n",
      "0.6977548820810727\n",
      "0.7048943980159441\n",
      "0.6902395524600261\n",
      "0.6867650651465796\n",
      "promedio de la combinacion 0.6835794769178664\n",
      "termine fold\n",
      "0.5457003326272921\n",
      "0.5340466926070039\n",
      "0.5009683666881859\n",
      "0.542040614180696\n",
      "0.5590625\n",
      "promedio de la combinacion 0.5363637012206356\n",
      "termine fold\n",
      "0.610875313431314\n",
      "0.6422950152275521\n",
      "0.6079984786061139\n",
      "0.6575976527681235\n",
      "0.6299032980456025\n",
      "promedio de la combinacion 0.6297339516157412\n",
      "termine fold\n",
      "0.7001377707328151\n",
      "0.7164060889330797\n",
      "0.6979328762994643\n",
      "0.6381138506100553\n",
      "0.681913680781759\n",
      "promedio de la combinacion 0.6869008534714347\n",
      "termine fold\n",
      "   profundidad  estimadores criterio    rocauc\n",
      "8            4           20     gini  0.691679\n"
     ]
    }
   ],
   "source": [
    "mejor_combinacion = definir_mejores_hiperparametrosPrueba(X, y)\n",
    "print(mejor_combinacion)"
   ]
  },
  {
   "cell_type": "code",
   "execution_count": 11,
   "metadata": {},
   "outputs": [
    {
     "name": "stdout",
     "output_type": "stream",
     "text": [
      "                                 precision    recall  f1-score   support\n",
      "\n",
      "No Tiene Alto Valor Adquisitivo       0.76      1.00      0.86      6159\n",
      "   Tiene Alto Valor Adquisitivo       1.00      0.00      0.00      1982\n",
      "\n",
      "                       accuracy                           0.76      8141\n",
      "                      macro avg       0.88      0.50      0.43      8141\n",
      "                   weighted avg       0.82      0.76      0.65      8141\n",
      "\n"
     ]
    },
    {
     "data": {
      "image/png": "[encoded data removed]",
      "text/plain": [
       "<Figure size 1080x720 with 1 Axes>"
      ]
     },
     "metadata": {
      "needs_background": "light"
     },
     "output_type": "display_data"
    },
    {
     "data": {
      "text/plain": [
       "0.5005045408678103"
      ]
     },
     "metadata": {},
     "output_type": "display_data"
    }
   ],
   "source": [
    "parametros_random_forest = mejor_combinacion.loc[:].values[0]\n",
    "random_forest = RandomForestClassifier(max_depth=parametros_random_forest[0],n_estimators=parametros_random_forest[1],criterion=parametros_random_forest[2])\n",
    "random_forest.fit(X_train,y_train)\n",
    "y_pred = random_forest.predict(X_test)\n",
    "print(classification_report(y_test, y_pred, target_names=['No Tiene Alto Valor Adquisitivo', 'Tiene Alto Valor Adquisitivo']))\n",
    "graficar_auc_roc(y_test,y_pred)"
   ]
  },
  {
   "cell_type": "code",
   "execution_count": null,
   "metadata": {},
   "outputs": [],
   "source": []
  },
  {
   "cell_type": "code",
   "execution_count": null,
   "metadata": {},
   "outputs": [],
   "source": []
  }
 ],
 "metadata": {
  "kernelspec": {
   "display_name": "Python 3",
   "language": "python",
   "name": "python3"
  },
  "language_info": {
   "codemirror_mode": {
    "name": "ipython",
    "version": 3
   },
   "file_extension": ".py",
   "mimetype": "text/x-python",
   "name": "python",
   "nbconvert_exporter": "python",
   "pygments_lexer": "ipython3",
   "version": "3.8.5"
  }
 },
 "nbformat": 4,
 "nbformat_minor": 4
}
