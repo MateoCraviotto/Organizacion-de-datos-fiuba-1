{
 "cells": [
  {
   "cell_type": "markdown",
   "metadata": {},
   "source": [
    "# Trabajo Práctico 2: Análisis con Support Vector Machine (SVM) - Organización de Datos"
   ]
  },
  {
   "cell_type": "markdown",
   "metadata": {},
   "source": [
    "**Alumnos y Padrón**\n",
    "+ Craviotto Roitbarg, Mateo Exequiel - 106255 \n",
    "+ Gómez, Joaquín - 103735\n",
    "\n",
    "https://github.com/joaqogomez/Organizacion-de-datos-fiuba"
   ]
  },
  {
   "cell_type": "markdown",
   "metadata": {},
   "source": [
    "## Configuraciones Iniciales\n",
    "Primero, importamos las bibliotecas que vamos a utilizar:"
   ]
  },
  {
   "cell_type": "code",
   "execution_count": 15,
   "metadata": {},
   "outputs": [],
   "source": [
    "import pandas as pd\n",
    "import numpy as np"
   ]
  },
  {
   "cell_type": "code",
   "execution_count": 16,
   "metadata": {},
   "outputs": [],
   "source": [
    "from sklearn.model_selection import train_test_split\n",
    "from sklearn.metrics import classification_report\n",
    "from sklearn.model_selection import KFold, StratifiedKFold\n",
    "from sklearn.svm import SVC\n",
    "from sklearn.metrics import roc_auc_score"
   ]
  },
  {
   "cell_type": "code",
   "execution_count": 17,
   "metadata": {},
   "outputs": [],
   "source": [
    "from preprocessing import dividir_dataset\n",
    "from preprocessing import preparar_dataset\n",
    "from preprocessing import normalizar_datos\n",
    "from preprocessing import aplicar_one_hot_encoding"
   ]
  },
  {
   "cell_type": "code",
   "execution_count": 18,
   "metadata": {},
   "outputs": [],
   "source": [
    "from funcionesAuxiliares import graficar_auc_roc\n",
    "from funcionesAuxiliares import traer_df"
   ]
  },
  {
   "cell_type": "markdown",
   "metadata": {},
   "source": [
    "## Carga del set de datos\n",
    "Cargamos el dataset y aplicamos las funciones necesarias para adecuarlo al modelo:"
   ]
  },
  {
   "cell_type": "code",
   "execution_count": 19,
   "metadata": {},
   "outputs": [],
   "source": [
    "df = traer_df()\n",
    "df = preparar_dataset(df)\n",
    "df = aplicar_one_hot_encoding(df)"
   ]
  },
  {
   "cell_type": "markdown",
   "metadata": {},
   "source": [
    "También segmentamos el dataset en X e y (target), y luego lo dividimos en subsets de entrenamiento y validation development (test)"
   ]
  },
  {
   "cell_type": "code",
   "execution_count": 20,
   "metadata": {},
   "outputs": [],
   "source": [
    "X, y = dividir_dataset(df)\n",
    "X_train, X_test, y_train, y_test = train_test_split(X, y, test_size=0.25, random_state=0)\n",
    "X_train, X_test = normalizar_datos(X_train, X_test)"
   ]
  },
  {
   "cell_type": "markdown",
   "metadata": {},
   "source": [
    "## Búsqueda de hiperparámetros\n",
    "Definimos los mejores hiperparámetros mediante la siguiente función de búsqueda. Estos son 'kernel' y'C'. Nos quedamos con la combinación que maximice la métrica de comparación utilizada, que es AUC-ROC."
   ]
  },
  {
   "cell_type": "code",
   "execution_count": 21,
   "metadata": {},
   "outputs": [],
   "source": [
    "def definir_mejores_hiperparametros(X, y):    \n",
    "    metrics = []\n",
    "    for kernel in ['poly', 'rbf']:\n",
    "        for C in [0.1, 1, 10]:\n",
    "            print(C)\n",
    "            if kernel == 'poly':\n",
    "                svm = SVC(kernel = kernel, C = C, degree = 3, probability = True)\n",
    "            else:\n",
    "                svm = SVC(kernel = kernel, C = C, probability = True)\n",
    "            svm.fit(X_train, y_train)\n",
    "            y_pred = svm.predict_proba(X_test)[:, 1]\n",
    "\n",
    "            print(f\"Score de la combinación: {roc_auc_score(y_test, y_pred)}\")\n",
    "            metrics.append((C, kernel, roc_auc_score(y_test, y_pred)))\n",
    "                \n",
    "    df_metrics = pd.DataFrame(metrics, columns=['C', 'kernel', 'rocauc'])\n",
    "    mejor_combinacion = df_metrics[df_metrics[\"rocauc\"] ==  max(df_metrics.rocauc)]\n",
    "    return mejor_combinacion"
   ]
  },
  {
   "cell_type": "code",
   "execution_count": 22,
   "metadata": {},
   "outputs": [],
   "source": [
    "def definir_mejor_gamma(X, y,mejor_C,mejor_kernel):    \n",
    "    metrics = []    \n",
    "    for gamma in ['scale',0.0001,0.0001,0.01,0.1]:\n",
    "        print(gamma)\n",
    "        svm = SVC(kernel = mejor_kernel, C = mejor_C,gamma = gamma ,probability = True)\n",
    "        svm.fit(X_train, y_train)\n",
    "        y_pred = svm.predict_proba(X_test)[:, 1]\n",
    "        print(f\"Score de la combinación: {roc_auc_score(y_test, y_pred)}\")\n",
    "        metrics.append((gamma, roc_auc_score(y_test, y_pred)))\n",
    "                \n",
    "    df_metrics = pd.DataFrame(metrics, columns=['gamma', 'rocauc'])\n",
    "    mejor_combinacion = df_metrics[df_metrics[\"rocauc\"] ==  max(df_metrics.rocauc)]\n",
    "    return mejor_combinacion"
   ]
  },
  {
   "cell_type": "markdown",
   "metadata": {},
   "source": [
    "## Entrenamiento y predicción con el dataset original\n",
    "Buscamos la mejor combinación de hiperparámetros para este dataset, con la función anteriormente mencionada."
   ]
  },
  {
   "cell_type": "code",
   "execution_count": 23,
   "metadata": {},
   "outputs": [
    {
     "name": "stdout",
     "output_type": "stream",
     "text": [
      "0.1\n",
      "Score de la combinación: 0.8951520413712043\n",
      "1\n",
      "Score de la combinación: 0.8943558678537099\n",
      "10\n",
      "Score de la combinación: 0.8911215716575007\n",
      "0.1\n",
      "Score de la combinación: 0.89705306026687\n",
      "1\n",
      "Score de la combinación: 0.8984506442050545\n",
      "10\n",
      "Score de la combinación: 0.8951868980263843\n",
      "     C kernel    rocauc\n",
      "4  1.0    rbf  0.898451\n"
     ]
    }
   ],
   "source": [
    "mejor_combinacion = definir_mejores_hiperparametros(X, y)\n",
    "print(mejor_combinacion)"
   ]
  },
  {
   "cell_type": "markdown",
   "metadata": {},
   "source": [
    "Observamos que la mejor combinación de hiperparámetros es la siguiente:"
   ]
  },
  {
   "cell_type": "code",
   "execution_count": 24,
   "metadata": {},
   "outputs": [
    {
     "name": "stdout",
     "output_type": "stream",
     "text": [
      "Mejor C: 1.0\n",
      "Mejor kernel: rbf\n"
     ]
    }
   ],
   "source": [
    "parametros_svm = mejor_combinacion.loc[:].values[0]\n",
    "mejor_C = parametros_svm[0]\n",
    "mejor_kernel = parametros_svm[1]\n",
    "print(f'Mejor C: {mejor_C}')\n",
    "print(f'Mejor kernel: {mejor_kernel}')"
   ]
  },
  {
   "cell_type": "code",
   "execution_count": 31,
   "metadata": {},
   "outputs": [
    {
     "name": "stdout",
     "output_type": "stream",
     "text": [
      "scale\n",
      "Score de la combinación: 0.8984700590752722\n",
      "0.0001\n",
      "Score de la combinación: 0.8812919539371146\n",
      "0.0001\n",
      "Score de la combinación: 0.8812888410043369\n",
      "0.01\n",
      "Score de la combinación: 0.9009436937634357\n",
      "0.1\n",
      "Score de la combinación: 0.8987094272220073\n",
      "  gamma    rocauc\n",
      "3  0.01  0.900944\n"
     ]
    }
   ],
   "source": [
    "mejor_parametro_rbf = definir_mejor_gamma(X, y,mejor_C,mejor_kernel)\n",
    "print(mejor_parametro_rbf)"
   ]
  },
  {
   "cell_type": "code",
   "execution_count": 57,
   "metadata": {},
   "outputs": [
    {
     "data": {
      "text/plain": [
       "0.01"
      ]
     },
     "execution_count": 57,
     "metadata": {},
     "output_type": "execute_result"
    }
   ],
   "source": [
    "mejor_parametro_rbf = mejor_parametro_rbf.loc[:].values[0]\n",
    "mejor_gamma = mejor_parametro_rbf[0]\n",
    "print(f'Mejor gamma: {mejor_gamma}')"
   ]
  },
  {
   "cell_type": "markdown",
   "metadata": {},
   "source": [
    "Entrenamos Support Vector Machine con esa mejor combinación. En el caso de que esta sea con kernel polinómico, utilizamos un kernel de grado 3."
   ]
  },
  {
   "cell_type": "code",
   "execution_count": 58,
   "metadata": {},
   "outputs": [
    {
     "data": {
      "text/plain": [
       "SVC(gamma=0.01, probability=True)"
      ]
     },
     "execution_count": 58,
     "metadata": {},
     "output_type": "execute_result"
    }
   ],
   "source": [
    "svm = SVC(kernel = mejor_kernel,gamma = mejor_gamma ,C = mejor_C, probability=True)    \n",
    "    \n",
    "svm.fit(X_train, y_train)"
   ]
  },
  {
   "cell_type": "markdown",
   "metadata": {},
   "source": [
    "Luego, hacemos que este prediga sobre el subset de validation. A continuación se muestra el gráfico de la curva ROC y su respectivo score en la métrica AUC-ROC."
   ]
  },
  {
   "cell_type": "code",
   "execution_count": 59,
   "metadata": {},
   "outputs": [
    {
     "data": {
      "image/png": "[encoded data removed]",
      "text/plain": [
       "<Figure size 1080x720 with 1 Axes>"
      ]
     },
     "metadata": {
      "needs_background": "light"
     },
     "output_type": "display_data"
    },
    {
     "data": {
      "text/plain": [
       "0.9009452502298246"
      ]
     },
     "metadata": {},
     "output_type": "display_data"
    }
   ],
   "source": [
    "y_pred = svm.predict(X_test)\n",
    "y_pred_proba = svm.predict_proba(X_test)[:, 1]\n",
    "graficar_auc_roc(y_test,y_pred_proba)"
   ]
  },
  {
   "cell_type": "markdown",
   "metadata": {},
   "source": [
    "Podemos observar que dio un valor bastante alto, lo que es interesante, pues en esta métrica 1 significa un clasificador ideal.\n",
    "\n",
    "A continuación, se muestra el classification report, que muestra otras métricas como precision, recall, accuracy, etc."
   ]
  },
  {
   "cell_type": "code",
   "execution_count": 60,
   "metadata": {},
   "outputs": [
    {
     "name": "stdout",
     "output_type": "stream",
     "text": [
      "                                 precision    recall  f1-score   support\n",
      "\n",
      "No Tiene Alto Valor Adquisitivo       0.87      0.94      0.90      6159\n",
      "   Tiene Alto Valor Adquisitivo       0.75      0.56      0.64      1982\n",
      "\n",
      "                       accuracy                           0.85      8141\n",
      "                      macro avg       0.81      0.75      0.77      8141\n",
      "                   weighted avg       0.84      0.85      0.84      8141\n",
      "\n"
     ]
    }
   ],
   "source": [
    "print(classification_report(y_test, y_pred, target_names=['No Tiene Alto Valor Adquisitivo', 'Tiene Alto Valor Adquisitivo']))"
   ]
  },
  {
   "cell_type": "markdown",
   "metadata": {},
   "source": [
    "Por último, mostramos la matriz de confusión correspondiente:"
   ]
  },
  {
   "cell_type": "code",
   "execution_count": 61,
   "metadata": {},
   "outputs": [],
   "source": [
    "from funcionesAuxiliares import graficar_matriz_confusion"
   ]
  },
  {
   "cell_type": "code",
   "execution_count": 62,
   "metadata": {},
   "outputs": [
    {
     "data": {
      "image/png": "[encoded data removed]",
      "text/plain": [
       "<Figure size 600x400 with 2 Axes>"
      ]
     },
     "metadata": {
      "needs_background": "light"
     },
     "output_type": "display_data"
    }
   ],
   "source": [
    "graficar_matriz_confusion(y_test, y_pred)"
   ]
  },
  {
   "cell_type": "markdown",
   "metadata": {},
   "source": [
    "Podemos ver que SVM es un muy buen clasificador para los contribuyentes con bajo valor adquisitivo. Además, es relativamente bueno para aquellas instancias con alto valor adquisitivo, ya que predice bien la mayoría, pero hay una buena cantidad que no predijo bien."
   ]
  },
  {
   "cell_type": "markdown",
   "metadata": {},
   "source": [
    "## Entrenamiento y predicción con el dataset ampliado\n",
    "Como otra técnica de preprocesamiento, decidimos expandir el dataset utilizando clustering para obtener cuatro nuevas columnas. Las columnas corresponden a la utilización de K-means con 2, 4, 6 y 10 como cantidad de clusters usados. "
   ]
  },
  {
   "cell_type": "code",
   "execution_count": 63,
   "metadata": {},
   "outputs": [],
   "source": [
    "from preprocessing import expandir_dataset"
   ]
  },
  {
   "cell_type": "markdown",
   "metadata": {},
   "source": [
    "Expandimos el dataset y realizamos el split del mismo en los subsets de entrenamiento y validación."
   ]
  },
  {
   "cell_type": "code",
   "execution_count": 64,
   "metadata": {},
   "outputs": [],
   "source": [
    "X_exp = expandir_dataset(X)\n",
    "X_exp_train, X_exp_test, y_exp_train, y_exp_test = train_test_split(X_exp, y, test_size=0.25, random_state=0)"
   ]
  },
  {
   "cell_type": "markdown",
   "metadata": {},
   "source": [
    "Buscamos la mejor combinación de hiperparámetros para este dataset."
   ]
  },
  {
   "cell_type": "code",
   "execution_count": 65,
   "metadata": {},
   "outputs": [
    {
     "name": "stdout",
     "output_type": "stream",
     "text": [
      "0.1\n",
      "Score de la combinación: 0.8951530653622496\n",
      "1\n",
      "Score de la combinación: 0.8943591446250546\n",
      "10\n",
      "Score de la combinación: 0.8911184996843651\n",
      "0.1\n",
      "Score de la combinación: 0.8970525277915267\n",
      "1\n",
      "Score de la combinación: 0.8984653077568223\n",
      "10\n",
      "Score de la combinación: 0.8952109822957683\n"
     ]
    }
   ],
   "source": [
    "mejor_combinacion = definir_mejores_hiperparametros(X_exp, y)"
   ]
  },
  {
   "cell_type": "markdown",
   "metadata": {},
   "source": [
    "A continuación, vemos la mejor combinación de hiperparámetros obtenida."
   ]
  },
  {
   "cell_type": "code",
   "execution_count": 66,
   "metadata": {},
   "outputs": [
    {
     "name": "stdout",
     "output_type": "stream",
     "text": [
      "Mejor C: 1.0\n",
      "Mejor kernel: rbf\n"
     ]
    }
   ],
   "source": [
    "parametros_svm = mejor_combinacion.loc[:].values[0]\n",
    "mejor_C = parametros_svm[0]\n",
    "mejor_kernel = parametros_svm[1]\n",
    "print(f'Mejor C: {mejor_C}')\n",
    "print(f'Mejor kernel: {mejor_kernel}')"
   ]
  },
  {
   "cell_type": "code",
   "execution_count": 67,
   "metadata": {},
   "outputs": [
    {
     "name": "stdout",
     "output_type": "stream",
     "text": [
      "scale\n",
      "Score de la combinación: 0.8984690760438687\n",
      "0.0001\n",
      "Score de la combinación: 0.8812894144393223\n",
      "0.0001\n",
      "Score de la combinación: 0.8812882675693515\n",
      "0.01\n",
      "Score de la combinación: 0.9009432432073758\n",
      "0.1\n",
      "Score de la combinación: 0.8987304804778975\n",
      "  gamma    rocauc\n",
      "3  0.01  0.900943\n"
     ]
    }
   ],
   "source": [
    "mejor_parametro_rbf = definir_mejor_gamma(X, y,mejor_C,mejor_kernel)\n",
    "print(mejor_parametro_rbf)"
   ]
  },
  {
   "cell_type": "code",
   "execution_count": 68,
   "metadata": {},
   "outputs": [
    {
     "name": "stdout",
     "output_type": "stream",
     "text": [
      "Mejor gamma: 0.01\n"
     ]
    }
   ],
   "source": [
    "mejor_parametro_rbf = mejor_parametro_rbf.loc[:].values[0]\n",
    "mejor_gamma = mejor_parametro_rbf[0]\n",
    "print(f'Mejor gamma: {mejor_gamma}')"
   ]
  },
  {
   "cell_type": "markdown",
   "metadata": {},
   "source": [
    "Entrenamos Support Vector Machine con esa mejor combinación. En el caso de que esta sea con kernel polinómico, utilizamos un kernel de grado 3."
   ]
  },
  {
   "cell_type": "code",
   "execution_count": 69,
   "metadata": {},
   "outputs": [
    {
     "data": {
      "text/plain": [
       "SVC(gamma=0.01, probability=True)"
      ]
     },
     "execution_count": 69,
     "metadata": {},
     "output_type": "execute_result"
    }
   ],
   "source": [
    "svm_expandido = SVC(kernel = mejor_kernel,gamma = mejor_gamma ,C = mejor_C, probability=True)  \n",
    "    \n",
    "svm_expandido.fit(X_exp_train, y_exp_train)"
   ]
  },
  {
   "cell_type": "markdown",
   "metadata": {},
   "source": [
    "Y ahora hacemos que prediga sobre el dataset expandido. Graficamos también la curva ROC con su respectivo resultado en la métrica AUC-ROC."
   ]
  },
  {
   "cell_type": "code",
   "execution_count": 70,
   "metadata": {},
   "outputs": [
    {
     "data": {
      "image/png": "[encoded data removed]",
      "text/plain": [
       "<Figure size 1080x720 with 1 Axes>"
      ]
     },
     "metadata": {
      "needs_background": "light"
     },
     "output_type": "display_data"
    },
    {
     "data": {
      "text/plain": [
       "0.883599538237382"
      ]
     },
     "metadata": {},
     "output_type": "display_data"
    }
   ],
   "source": [
    "y_pred = svm_expandido.predict(X_exp_test)\n",
    "y_pred_proba = svm_expandido.predict_proba(X_exp_test)[:, 1]\n",
    "graficar_auc_roc(y_exp_test, y_pred_proba)"
   ]
  },
  {
   "cell_type": "markdown",
   "metadata": {},
   "source": [
    "Podemos ver que el AUC score dio un valor elevado. Sin embargo, este es considerablemente menor al de la predicción con el dataset original, con una diferencia de un 4% aproximadamente.\n",
    "\n",
    "A continuación, se muestra el classification report, que muestra otras métricas como precision, recall, accuracy, etc."
   ]
  },
  {
   "cell_type": "code",
   "execution_count": 71,
   "metadata": {},
   "outputs": [
    {
     "name": "stdout",
     "output_type": "stream",
     "text": [
      "                                 precision    recall  f1-score   support\n",
      "\n",
      "No Tiene Alto Valor Adquisitivo       0.87      0.96      0.91      6159\n",
      "   Tiene Alto Valor Adquisitivo       0.82      0.54      0.65      1982\n",
      "\n",
      "                       accuracy                           0.86      8141\n",
      "                      macro avg       0.84      0.75      0.78      8141\n",
      "                   weighted avg       0.85      0.86      0.85      8141\n",
      "\n"
     ]
    }
   ],
   "source": [
    "print(classification_report(y_test, y_pred, target_names=['No Tiene Alto Valor Adquisitivo', 'Tiene Alto Valor Adquisitivo']))"
   ]
  },
  {
   "cell_type": "markdown",
   "metadata": {},
   "source": [
    "Se puede rescatar un recall alto para las instancias que no tienen alto valor adquisitivo, pero un recall muy bajo (0.28) para las instancias que si tienen alto valor adquisitivo. Esto se puede ver claramente en la siguiente matriz de confusión, donde la mayoría de los ceros reales se predijo correctamente, pero no se puede decir lo mismo sobre los unos:"
   ]
  },
  {
   "cell_type": "code",
   "execution_count": 72,
   "metadata": {},
   "outputs": [],
   "source": [
    "from funcionesAuxiliares import graficar_matriz_confusion"
   ]
  },
  {
   "cell_type": "code",
   "execution_count": 73,
   "metadata": {},
   "outputs": [
    {
     "data": {
      "image/png": "[encoded data removed]",
      "text/plain": [
       "<Figure size 600x400 with 2 Axes>"
      ]
     },
     "metadata": {
      "needs_background": "light"
     },
     "output_type": "display_data"
    }
   ],
   "source": [
    "graficar_matriz_confusion(y_exp_test, y_pred)"
   ]
  },
  {
   "cell_type": "markdown",
   "metadata": {},
   "source": [
    "## Predicción con el dataset de test holdout\n",
    "A continuación, realizamos la predicción con SVM sobre el dataset de holdout sin expandir, ya que es el que nos dio un score más alto en la métrica AUC-ROC, y la escribimos al archivo 'SVM.csv'."
   ]
  },
  {
   "cell_type": "code",
   "execution_count": 77,
   "metadata": {},
   "outputs": [],
   "source": [
    "from funcionesAuxiliares import traer_holdout\n",
    "from preprocessing import preparar_holdout\n",
    "from funcionesAuxiliares import escribir_predicciones"
   ]
  },
  {
   "cell_type": "code",
   "execution_count": 78,
   "metadata": {},
   "outputs": [],
   "source": [
    "holdout = traer_holdout()\n",
    "ids, holdout = preparar_holdout(holdout)\n",
    "holdout = aplicar_one_hot_encoding(holdout)"
   ]
  },
  {
   "cell_type": "code",
   "execution_count": 79,
   "metadata": {},
   "outputs": [],
   "source": [
    "predicciones = svm.predict(holdout)\n",
    "escribir_predicciones(ids, predicciones, \"SVM\")"
   ]
  },
  {
   "cell_type": "code",
   "execution_count": null,
   "metadata": {},
   "outputs": [],
   "source": []
  },
  {
   "cell_type": "code",
   "execution_count": null,
   "metadata": {},
   "outputs": [],
   "source": []
  }
 ],
 "metadata": {
  "kernelspec": {
   "display_name": "Python 3",
   "language": "python",
   "name": "python3"
  },
  "language_info": {
   "codemirror_mode": {
    "name": "ipython",
    "version": 3
   },
   "file_extension": ".py",
   "mimetype": "text/x-python",
   "name": "python",
   "nbconvert_exporter": "python",
   "pygments_lexer": "ipython3",
   "version": "3.8.5"
  }
 },
 "nbformat": 4,
 "nbformat_minor": 4
}
