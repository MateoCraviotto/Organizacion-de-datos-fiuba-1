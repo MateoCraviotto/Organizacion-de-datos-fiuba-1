{
 "cells": [
  {
   "cell_type": "code",
   "execution_count": 1,
   "metadata": {},
   "outputs": [],
   "source": [
    "import pandas as pd\n",
    "import numpy as np"
   ]
  },
  {
   "cell_type": "code",
   "execution_count": 2,
   "metadata": {},
   "outputs": [],
   "source": [
    "from sklearn.model_selection import train_test_split\n",
    "from sklearn.metrics import classification_report\n",
    "from sklearn.model_selection import KFold, StratifiedKFold\n",
    "from sklearn.svm import SVC\n",
    "from sklearn.metrics import roc_auc_score"
   ]
  },
  {
   "cell_type": "code",
   "execution_count": 3,
   "metadata": {},
   "outputs": [],
   "source": [
    "from preprocessing import dividir_dataset\n",
    "from preprocessing import preparar_dataset\n",
    "from preprocessing import normalizar_datos\n",
    "from preprocessing import aplicar_one_hot_encoding"
   ]
  },
  {
   "cell_type": "code",
   "execution_count": 4,
   "metadata": {},
   "outputs": [],
   "source": [
    "from funcionesAuxiliares import graficar_auc_roc\n",
    "from funcionesAuxiliares import traer_df"
   ]
  },
  {
   "cell_type": "code",
   "execution_count": 5,
   "metadata": {},
   "outputs": [],
   "source": [
    "df = traer_df()\n",
    "df = preparar_dataset(df)\n",
    "df = aplicar_one_hot_encoding(df)"
   ]
  },
  {
   "cell_type": "code",
   "execution_count": 6,
   "metadata": {},
   "outputs": [],
   "source": [
    "X, y = dividir_dataset(df)\n",
    "X_train, X_test, y_train, y_test = train_test_split(X, y, test_size=0.25, random_state=0)\n",
    "X_train, X_test = normalizar_datos(X_train, X_test)"
   ]
  },
  {
   "cell_type": "code",
   "execution_count": 7,
   "metadata": {},
   "outputs": [],
   "source": [
    "def definir_mejores_hiperparametros(X, y):    \n",
    "    metrics = []\n",
    "    y_array=np.array(y)\n",
    "    for kernel in ['poly', 'rbf', 'linear']:\n",
    "        for C in [0.1, 1, 10, 100]: \n",
    "            kf = StratifiedKFold(n_splits=5)\n",
    "            metricas_de_la_combinacion = []\n",
    "            for fold_index, (train_index, test_index) in enumerate(kf.split(X, y_array)):\n",
    "                print(C)\n",
    "                train_fold_actual = X.iloc[train_index].copy()\n",
    "                test_fold_actual = X.iloc[test_index].copy()\n",
    "                train_fold_actual, test_fold_actual = normalizar_datos(train_fold_actual, test_fold_actual)\n",
    "                svm = SVC(kernel = kernel, C = C, probability = True)\n",
    "                svm.fit(train_fold_actual, y.iloc[train_index])\n",
    "                y_pred = svm.predict_proba(test_fold_actual)[:, 1]\n",
    "                metricas_de_la_combinacion.append(roc_auc_score(y.iloc[test_index], y_pred))\n",
    "                \n",
    "            print(f\"Promedio de la combinación: {np.mean(metricas_de_la_combinacion)}\")\n",
    "            metrics.append((C, kernel, np.mean(metricas_de_la_combinacion)))\n",
    "                \n",
    "    df_metrics = pd.DataFrame(metrics, columns=['C','kernel','rocauc'])\n",
    "    mejor_combinacion = df_metrics[df_metrics[\"rocauc\"] ==  max(df_metrics.rocauc)]\n",
    "    return mejor_combinacion"
   ]
  },
  {
   "cell_type": "code",
   "execution_count": null,
   "metadata": {},
   "outputs": [],
   "source": [
    "mejor_combinacion = definir_mejores_hiperparametros(X, y)\n",
    "print(mejor_combinacion)"
   ]
  },
  {
   "cell_type": "code",
   "execution_count": null,
   "metadata": {},
   "outputs": [],
   "source": [
    "parametros_svm = mejor_combinacion.loc[:].values[0]\n",
    "mejor_C = parametros_svm[0]\n",
    "mejor_kernel = parametros_svm[1]"
   ]
  },
  {
   "cell_type": "code",
   "execution_count": null,
   "metadata": {},
   "outputs": [],
   "source": [
    "def definir_mejor_gamma(X, y, mejor_kernel, mejor_C):\n",
    "    metrics = []\n",
    "    y_array=np.array(y)\n",
    "    for gamma in range(1, 100, 10):\n",
    "        kf = StratifiedKFold(n_splits=5)\n",
    "        metricas_de_la_combinacion = []\n",
    "        for fold_index, (train_index, test_index) in enumerate(kf.split(X, y_array)):\n",
    "            print(gamma)\n",
    "            train_fold_actual = X.iloc[train_index].copy()\n",
    "            test_fold_actual = X.iloc[test_index].copy()\n",
    "            train_fold_actual, test_fold_actual = normalizar_datos(train_fold_actual, test_fold_actual)\n",
    "            svm = SVC(kernel = mejor_kernel, C = mejor_C, gamma = gamma, probability = True)\n",
    "            svm.fit(train_fold_actual, y.iloc[train_index])\n",
    "            y_pred = svm.predict_proba(test_fold_actual)[:, 1]\n",
    "            metricas_de_la_combinacion.append(roc_auc_score(y.iloc[test_index], y_pred))\n",
    "\n",
    "        print(f\"Promedio de la combinación: {np.mean(metricas_de_la_combinacion)}\")\n",
    "        metrics.append((gamma, np.mean(metricas_de_la_combinacion)))\n",
    "        \n",
    "\n",
    "    df_metrics = pd.DataFrame(metrics, columns=['gamma', 'rocauc'])\n",
    "    mejor_combinacion = df_metrics[df_metrics[\"rocauc\"] ==  max(df_metrics.rocauc)]   \n",
    "    return mejor_combinacion"
   ]
  },
  {
   "cell_type": "code",
   "execution_count": null,
   "metadata": {},
   "outputs": [],
   "source": [
    "mejor_combinacion = definir_mejor_gamma(X, y, mejor_kernel, mejor_C)\n",
    "print(mejor_combinacion)"
   ]
  },
  {
   "cell_type": "code",
   "execution_count": null,
   "metadata": {},
   "outputs": [],
   "source": [
    "mejor_gamma = mejor_combinacion.loc[:].values[0][0]\n",
    "print(mejor_gamma)\n",
    "svm = SVC(kernel = mejor_kernel, C = mejor_C, gamma = mejor_gamma, probability=True)\n",
    "svm.fit(X_train, y_train)\n",
    "y_pred = svm.predict_proba(X_test)[:, 1]\n",
    "print(classification_report(y_test, y_pred, target_names=['No Tiene Alto Valor Adquisitivo', 'Tiene Alto Valor Adquisitivo']))\n",
    "graficar_auc_roc(y_test,y_pred)"
   ]
  },
  {
   "cell_type": "code",
   "execution_count": null,
   "metadata": {},
   "outputs": [],
   "source": []
  }
 ],
 "metadata": {
  "kernelspec": {
   "display_name": "Python 3",
   "language": "python",
   "name": "python3"
  },
  "language_info": {
   "codemirror_mode": {
    "name": "ipython",
    "version": 3
   },
   "file_extension": ".py",
   "mimetype": "text/x-python",
   "name": "python",
   "nbconvert_exporter": "python",
   "pygments_lexer": "ipython3",
   "version": "3.8.5"
  }
 },
 "nbformat": 4,
 "nbformat_minor": 4
}
