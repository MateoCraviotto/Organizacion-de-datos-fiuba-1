{
 "cells": [
  {
   "cell_type": "code",
   "execution_count": 1,
   "metadata": {},
   "outputs": [],
   "source": [
    "import pandas as pd\n",
    "import numpy as np"
   ]
  },
  {
   "cell_type": "code",
   "execution_count": 2,
   "metadata": {},
   "outputs": [],
   "source": [
    "from sklearn.model_selection import train_test_split\n",
    "from sklearn.metrics import classification_report\n",
    "from sklearn.model_selection import KFold, StratifiedKFold\n",
    "from sklearn.svm import SVC\n",
    "from sklearn.metrics import roc_auc_score"
   ]
  },
  {
   "cell_type": "code",
   "execution_count": 3,
   "metadata": {},
   "outputs": [],
   "source": [
    "from preprocessing import dividir_dataset\n",
    "from preprocessing import preparar_dataset\n",
    "from preprocessing import normalizar_datos"
   ]
  },
  {
   "cell_type": "code",
   "execution_count": 4,
   "metadata": {},
   "outputs": [],
   "source": [
    "from funcionesAuxiliares import graficar_auc_roc\n",
    "from funcionesAuxiliares import traer_df"
   ]
  },
  {
   "cell_type": "code",
   "execution_count": 5,
   "metadata": {},
   "outputs": [],
   "source": [
    "df = traer_df()\n",
    "df = preparar_dataset(df)"
   ]
  },
  {
   "cell_type": "code",
   "execution_count": 6,
   "metadata": {},
   "outputs": [],
   "source": [
    "X, y = dividir_dataset(df)\n",
    "X_train, X_test, y_train, y_test = train_test_split(X, y, test_size=0.25, random_state=0)\n",
    "X = normalizar_datos(X)"
   ]
  },
  {
   "cell_type": "code",
   "execution_count": 7,
   "metadata": {},
   "outputs": [],
   "source": [
    "def definir_mejores_hiperparametros(X, y):    \n",
    "    metrics = []\n",
    "    for kernel in ['linear', 'poly', 'rbf']:\n",
    "        for C in [0.1,0.5,1,5,10,15,20,25,30,50,75,100,200]: \n",
    "            kf = KFold(n_splits=5)\n",
    "            for fold_index, (train_index, test_index) in enumerate(kf.split(X)):\n",
    "                print(C)\n",
    "                svm = SVC(kernel = kernel, C = C)\n",
    "                svm.fit(X[train_index], y.iloc[train_index])\n",
    "                y_pred = svm.predict(X[test_index])\n",
    "                metrics.append((C,kernel,roc_auc_score(y.iloc[test_index], y_pred)))                \n",
    "    df_metrics = pd.DataFrame(metrics, columns=['C','kernel','rocauc'])\n",
    "    mejor_combinacion = df_metrics[df_metrics[\"rocauc\"] ==  max(df_metrics.rocauc)]   \n",
    "    return mejor_combinacion"
   ]
  },
  {
   "cell_type": "code",
   "execution_count": 8,
   "metadata": {},
   "outputs": [
    {
     "name": "stdout",
     "output_type": "stream",
     "text": [
      "0.1\n",
      "0.1\n",
      "0.1\n",
      "0.1\n",
      "0.1\n",
      "0.5\n",
      "0.5\n",
      "0.5\n",
      "0.5\n",
      "0.5\n",
      "1\n",
      "1\n",
      "1\n",
      "1\n",
      "1\n",
      "5\n",
      "5\n",
      "5\n",
      "5\n",
      "5\n",
      "10\n",
      "10\n",
      "10\n",
      "10\n",
      "10\n",
      "15\n",
      "15\n",
      "15\n",
      "15\n",
      "15\n",
      "20\n",
      "20\n",
      "20\n",
      "20\n",
      "20\n",
      "25\n",
      "25\n",
      "25\n",
      "25\n",
      "25\n",
      "30\n",
      "30\n",
      "30\n",
      "30\n",
      "30\n",
      "50\n",
      "50\n",
      "50\n",
      "50\n",
      "50\n",
      "75\n",
      "75\n",
      "75\n",
      "75\n",
      "75\n",
      "100\n",
      "100\n",
      "100\n",
      "100\n",
      "100\n",
      "200\n",
      "200\n",
      "200\n",
      "200\n",
      "200\n",
      "0.1\n",
      "0.1\n",
      "0.1\n",
      "0.1\n",
      "0.1\n",
      "0.5\n",
      "0.5\n",
      "0.5\n",
      "0.5\n",
      "0.5\n",
      "1\n",
      "1\n",
      "1\n",
      "1\n",
      "1\n",
      "5\n",
      "5\n",
      "5\n",
      "5\n",
      "5\n",
      "10\n",
      "10\n",
      "10\n",
      "10\n",
      "10\n",
      "15\n",
      "15\n",
      "15\n",
      "15\n",
      "15\n",
      "20\n",
      "20\n",
      "20\n",
      "20\n",
      "20\n",
      "25\n",
      "25\n",
      "25\n",
      "25\n",
      "25\n",
      "30\n",
      "30\n",
      "30\n",
      "30\n",
      "30\n",
      "50\n",
      "50\n",
      "50\n",
      "50\n",
      "50\n",
      "75\n",
      "75\n",
      "75\n",
      "75\n",
      "75\n",
      "100\n",
      "100\n",
      "100\n",
      "100\n",
      "100\n",
      "200\n",
      "200\n",
      "200\n",
      "200\n",
      "200\n",
      "0.1\n",
      "0.1\n",
      "0.1\n",
      "0.1\n",
      "0.1\n",
      "0.5\n",
      "0.5\n",
      "0.5\n",
      "0.5\n",
      "0.5\n",
      "1\n",
      "1\n",
      "1\n",
      "1\n",
      "1\n",
      "5\n",
      "5\n",
      "5\n",
      "5\n",
      "5\n",
      "10\n",
      "10\n",
      "10\n",
      "10\n",
      "10\n",
      "15\n",
      "15\n",
      "15\n",
      "15\n",
      "15\n",
      "20\n",
      "20\n",
      "20\n",
      "20\n",
      "20\n",
      "25\n",
      "25\n",
      "25\n",
      "25\n",
      "25\n",
      "30\n",
      "30\n",
      "30\n",
      "30\n",
      "30\n",
      "50\n",
      "50\n",
      "50\n",
      "50\n",
      "50\n",
      "75\n",
      "75\n",
      "75\n",
      "75\n",
      "75\n",
      "100\n",
      "100\n",
      "100\n",
      "100\n",
      "100\n",
      "200\n",
      "200\n",
      "200\n",
      "200\n",
      "200\n",
      "         C kernel    rocauc\n",
      "192  200.0    rbf  0.768378\n"
     ]
    }
   ],
   "source": [
    "mejor_combinacion = definir_mejores_hiperparametros(X, y)\n",
    "print(mejor_combinacion)"
   ]
  },
  {
   "cell_type": "code",
   "execution_count": 9,
   "metadata": {},
   "outputs": [
    {
     "name": "stdout",
     "output_type": "stream",
     "text": [
      "                                 precision    recall  f1-score   support\n",
      "\n",
      "No Tiene Alto Valor Adquisitivo       0.81      0.98      0.89      6159\n",
      "   Tiene Alto Valor Adquisitivo       0.83      0.27      0.40      1982\n",
      "\n",
      "                       accuracy                           0.81      8141\n",
      "                      macro avg       0.82      0.62      0.64      8141\n",
      "                   weighted avg       0.81      0.81      0.77      8141\n",
      "\n"
     ]
    },
    {
     "data": {
      "image/png": "[encoded data removed]",
      "text/plain": [
       "<Figure size 1080x720 with 1 Axes>"
      ]
     },
     "metadata": {
      "needs_background": "light"
     },
     "output_type": "display_data"
    },
    {
     "data": {
      "text/plain": [
       "0.6246746780449275"
      ]
     },
     "metadata": {},
     "output_type": "display_data"
    }
   ],
   "source": [
    "parametros_svm = mejor_combinacion.loc[:].values[0]\n",
    "svm = SVC( C = parametros_svm[0] , kernel = parametros_svm[1])\n",
    "svm.fit(X_train, y_train)\n",
    "y_pred = svm.predict(X_test)\n",
    "print(classification_report(y_test, y_pred, target_names=['No Tiene Alto Valor Adquisitivo', 'Tiene Alto Valor Adquisitivo']))\n",
    "graficar_auc_roc(y_test,y_pred)"
   ]
  },
  {
   "cell_type": "code",
   "execution_count": null,
   "metadata": {},
   "outputs": [],
   "source": []
  }
 ],
 "metadata": {
  "kernelspec": {
   "display_name": "Python 3",
   "language": "python",
   "name": "python3"
  },
  "language_info": {
   "codemirror_mode": {
    "name": "ipython",
    "version": 3
   },
   "file_extension": ".py",
   "mimetype": "text/x-python",
   "name": "python",
   "nbconvert_exporter": "python",
   "pygments_lexer": "ipython3",
   "version": "3.8.5"
  }
 },
 "nbformat": 4,
 "nbformat_minor": 4
}
