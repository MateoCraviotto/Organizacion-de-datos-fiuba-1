{
 "cells": [
  {
   "cell_type": "markdown",
   "metadata": {},
   "source": [
    "# Trabajo Práctico 2: Análisis con Support Vector Machine (SVM) - Organización de Datos"
   ]
  },
  {
   "cell_type": "markdown",
   "metadata": {},
   "source": [
    "**Alumnos y Padrón**\n",
    "+ Craviotto Roitbarg, Mateo Exequiel - 106255 \n",
    "+ Gómez, Joaquín - 103735\n",
    "\n",
    "https://github.com/joaqogomez/Organizacion-de-datos-fiuba"
   ]
  },
  {
   "cell_type": "markdown",
   "metadata": {},
   "source": [
    "## Configuraciones Iniciales\n",
    "Primero, importamos las bibliotecas que vamos a utilizar:"
   ]
  },
  {
   "cell_type": "code",
   "execution_count": 1,
   "metadata": {},
   "outputs": [],
   "source": [
    "import pandas as pd\n",
    "import numpy as np"
   ]
  },
  {
   "cell_type": "code",
   "execution_count": 2,
   "metadata": {},
   "outputs": [],
   "source": [
    "from sklearn.model_selection import train_test_split\n",
    "from sklearn.metrics import classification_report\n",
    "from sklearn.model_selection import KFold, StratifiedKFold\n",
    "from sklearn.svm import SVC\n",
    "from sklearn.metrics import roc_auc_score"
   ]
  },
  {
   "cell_type": "code",
   "execution_count": 3,
   "metadata": {},
   "outputs": [],
   "source": [
    "from preprocessing import dividir_dataset\n",
    "from preprocessing import preparar_dataset\n",
    "from preprocessing import normalizar_datos\n",
    "from preprocessing import aplicar_one_hot_encoding"
   ]
  },
  {
   "cell_type": "code",
   "execution_count": 4,
   "metadata": {},
   "outputs": [],
   "source": [
    "from funcionesAuxiliares import graficar_auc_roc\n",
    "from funcionesAuxiliares import traer_df"
   ]
  },
  {
   "cell_type": "markdown",
   "metadata": {},
   "source": [
    "## Carga del set de datos\n",
    "Cargamos el dataset y aplicamos las funciones necesarias para adecuarlo al modelo:"
   ]
  },
  {
   "cell_type": "code",
   "execution_count": 5,
   "metadata": {},
   "outputs": [],
   "source": [
    "df = traer_df()\n",
    "df = preparar_dataset(df)\n",
    "df = aplicar_one_hot_encoding(df)"
   ]
  },
  {
   "cell_type": "markdown",
   "metadata": {},
   "source": [
    "También segmentamos el dataset en X e y (target), y luego lo dividimos en subsets de entrenamiento y validation development (test)"
   ]
  },
  {
   "cell_type": "code",
   "execution_count": 6,
   "metadata": {},
   "outputs": [],
   "source": [
    "X, y = dividir_dataset(df)\n",
    "X_train, X_test, y_train, y_test = train_test_split(X, y, test_size=0.25, random_state=0)\n",
    "X_train, X_test = normalizar_datos(X_train, X_test)"
   ]
  },
  {
   "cell_type": "markdown",
   "metadata": {},
   "source": [
    "## Búsqueda de hiperparámetros\n",
    "Definimos los mejores hiperparámetros mediante la siguiente función de búsqueda. Estos son 'kernel' y'C'. Nos quedamos con la combinación que maximice la métrica de comparación utilizada, que es AUC-ROC."
   ]
  },
  {
   "cell_type": "code",
   "execution_count": 7,
   "metadata": {},
   "outputs": [],
   "source": [
    "def definir_mejores_hiperparametros(X, y):    \n",
    "    metrics = []\n",
    "    for kernel in ['poly', 'rbf']:\n",
    "        for C in [0.1, 1, 10]:\n",
    "            if kernel == 'poly':\n",
    "                svm = SVC(kernel = kernel, C = C, degree = 3, probability = True)\n",
    "            else:\n",
    "                svm = SVC(kernel = kernel, C = C, probability = True)\n",
    "            svm.fit(X_train, y_train)\n",
    "            y_pred = svm.predict_proba(X_test)[:, 1]\n",
    "\n",
    "            metrics.append((C, kernel, roc_auc_score(y_test, y_pred)))\n",
    "                \n",
    "    df_metrics = pd.DataFrame(metrics, columns=['C', 'kernel', 'rocauc'])\n",
    "    mejor_combinacion = df_metrics[df_metrics[\"rocauc\"] ==  max(df_metrics.rocauc)]\n",
    "    return mejor_combinacion"
   ]
  },
  {
   "cell_type": "markdown",
   "metadata": {},
   "source": [
    "## Entrenamiento y predicción con el dataset original\n",
    "Buscamos la mejor combinación de hiperparámetros para este dataset, con la función anteriormente mencionada."
   ]
  },
  {
   "cell_type": "code",
   "execution_count": 9,
   "metadata": {},
   "outputs": [
    {
     "name": "stdout",
     "output_type": "stream",
     "text": [
      "0.1\n",
      "1\n",
      "10\n",
      "0.1\n",
      "1\n",
      "10\n"
     ]
    }
   ],
   "source": [
    "mejor_combinacion = definir_mejores_hiperparametros(X, y)"
   ]
  },
  {
   "cell_type": "markdown",
   "metadata": {},
   "source": [
    "Observamos que la mejor combinación de hiperparámetros es la siguiente:"
   ]
  },
  {
   "cell_type": "code",
   "execution_count": 10,
   "metadata": {},
   "outputs": [
    {
     "name": "stdout",
     "output_type": "stream",
     "text": [
      "Mejor C: 1.0\n",
      "Mejor kernel: rbf\n"
     ]
    }
   ],
   "source": [
    "parametros_svm = mejor_combinacion.loc[:].values[0]\n",
    "mejor_C = parametros_svm[0]\n",
    "mejor_kernel = parametros_svm[1]\n",
    "print(f'Mejor C: {mejor_C}')\n",
    "print(f'Mejor kernel: {mejor_kernel}')"
   ]
  },
  {
   "cell_type": "markdown",
   "metadata": {},
   "source": [
    "Debido a que es un kernel radial, buscamos el gamma que maximiza la métrica AUC-ROC"
   ]
  },
  {
   "cell_type": "code",
   "execution_count": null,
   "metadata": {},
   "outputs": [],
   "source": [
    "def definir_mejor_gamma(X, y,mejor_C,mejor_kernel):    \n",
    "    metrics = []    \n",
    "    for gamma in ['scale',0.0001,0.0001,0.01,0.1]:\n",
    "        svm = SVC(kernel = mejor_kernel, C = mejor_C,gamma = gamma ,probability = True)\n",
    "        svm.fit(X_train, y_train)\n",
    "        y_pred = svm.predict_proba(X_test)[:, 1]\n",
    "        metrics.append((gamma, roc_auc_score(y_test, y_pred)))\n",
    "                \n",
    "    df_metrics = pd.DataFrame(metrics, columns=['gamma', 'rocauc'])\n",
    "    mejor_combinacion = df_metrics[df_metrics[\"rocauc\"] ==  max(df_metrics.rocauc)]\n",
    "    return mejor_combinacion"
   ]
  },
  {
   "cell_type": "code",
   "execution_count": 11,
   "metadata": {},
   "outputs": [
    {
     "name": "stdout",
     "output_type": "stream",
     "text": [
      "scale\n",
      "Score de la combinación: 0.898439994698184\n",
      "0.0001\n",
      "Score de la combinación: 0.8812894144393224\n",
      "0.0001\n",
      "Score de la combinación: 0.8812913805021292\n",
      "0.01\n",
      "Score de la combinación: 0.9009457417455263\n",
      "0.1\n",
      "Score de la combinación: 0.8987303166393303\n",
      "  gamma    rocauc\n",
      "3  0.01  0.900946\n"
     ]
    }
   ],
   "source": [
    "mejor_parametro_rbf = definir_mejor_gamma(X, y,mejor_C,mejor_kernel)"
   ]
  },
  {
   "cell_type": "code",
   "execution_count": 12,
   "metadata": {},
   "outputs": [
    {
     "name": "stdout",
     "output_type": "stream",
     "text": [
      "Mejor gamma: 0.01\n"
     ]
    }
   ],
   "source": [
    "mejor_parametro_rbf = mejor_parametro_rbf.loc[:].values[0]\n",
    "mejor_gamma = mejor_parametro_rbf[0]\n",
    "print(f'Mejor gamma: {mejor_gamma}')"
   ]
  },
  {
   "cell_type": "markdown",
   "metadata": {},
   "source": [
    "Entrenamos Support Vector Machine con esa mejor combinación. En el caso de que esta sea con kernel polinómico, utilizamos un kernel de grado 3."
   ]
  },
  {
   "cell_type": "code",
   "execution_count": 13,
   "metadata": {},
   "outputs": [
    {
     "data": {
      "text/plain": [
       "SVC(gamma=0.01, probability=True)"
      ]
     },
     "execution_count": 13,
     "metadata": {},
     "output_type": "execute_result"
    }
   ],
   "source": [
    "svm = SVC(kernel = mejor_kernel,gamma = mejor_gamma ,C = mejor_C, probability=True)    \n",
    "    \n",
    "svm.fit(X_train, y_train)"
   ]
  },
  {
   "cell_type": "markdown",
   "metadata": {},
   "source": [
    "Luego, hacemos que este prediga sobre el subset de validation. A continuación se muestra el gráfico de la curva ROC y su respectivo score en la métrica AUC-ROC."
   ]
  },
  {
   "cell_type": "code",
   "execution_count": 14,
   "metadata": {},
   "outputs": [
    {
     "data": {
      "image/png": "[encoded data removed]",
      "text/plain": [
       "<Figure size 1080x720 with 1 Axes>"
      ]
     },
     "metadata": {
      "needs_background": "light"
     },
     "output_type": "display_data"
    },
    {
     "name": "stdout",
     "output_type": "stream",
     "text": [
      "El valor de la metrica AUC-ROC para este modelo es: 0.900944103359854\n"
     ]
    }
   ],
   "source": [
    "y_pred = svm.predict(X_test)\n",
    "y_pred_proba = svm.predict_proba(X_test)[:, 1]\n",
    "graficar_auc_roc(y_test,y_pred_proba)"
   ]
  },
  {
   "cell_type": "markdown",
   "metadata": {},
   "source": [
    "Podemos observar que dio un valor bastante alto, lo que es interesante, pues en esta métrica 1 significa un clasificador ideal.\n",
    "\n",
    "A continuación, se muestra el classification report, que muestra otras métricas como precision, recall, accuracy, etc."
   ]
  },
  {
   "cell_type": "code",
   "execution_count": 15,
   "metadata": {},
   "outputs": [
    {
     "name": "stdout",
     "output_type": "stream",
     "text": [
      "                                 precision    recall  f1-score   support\n",
      "\n",
      "No Tiene Alto Valor Adquisitivo      0.868     0.940     0.903      6159\n",
      "   Tiene Alto Valor Adquisitivo      0.749     0.557     0.639      1982\n",
      "\n",
      "                       accuracy                          0.847      8141\n",
      "                      macro avg      0.809     0.748     0.771      8141\n",
      "                   weighted avg      0.839     0.847     0.838      8141\n",
      "\n"
     ]
    }
   ],
   "source": [
    "print(classification_report(y_test, y_pred, target_names=['No Tiene Alto Valor Adquisitivo', 'Tiene Alto Valor Adquisitivo'],digits=3))"
   ]
  },
  {
   "cell_type": "markdown",
   "metadata": {},
   "source": [
    "Por último, mostramos la matriz de confusión correspondiente:"
   ]
  },
  {
   "cell_type": "code",
   "execution_count": 16,
   "metadata": {},
   "outputs": [],
   "source": [
    "from funcionesAuxiliares import graficar_matriz_confusion"
   ]
  },
  {
   "cell_type": "code",
   "execution_count": 17,
   "metadata": {},
   "outputs": [
    {
     "data": {
      "image/png": "[encoded data removed]",
      "text/plain": [
       "<Figure size 600x400 with 2 Axes>"
      ]
     },
     "metadata": {
      "needs_background": "light"
     },
     "output_type": "display_data"
    }
   ],
   "source": [
    "graficar_matriz_confusion(y_test, y_pred)"
   ]
  },
  {
   "cell_type": "markdown",
   "metadata": {},
   "source": [
    "Podemos ver que SVM es un muy buen clasificador para los contribuyentes con bajo valor adquisitivo. Además, es relativamente bueno para aquellas instancias con alto valor adquisitivo, ya que predice bien la mayoría, pero hay una buena cantidad que no predijo bien."
   ]
  },
  {
   "cell_type": "markdown",
   "metadata": {},
   "source": [
    "## Entrenamiento y predicción con el dataset ampliado\n",
    "Como otra técnica de preprocesamiento, decidimos expandir el dataset utilizando clustering para obtener cuatro nuevas columnas. Las columnas corresponden a la utilización de K-means con 2, 4, 6 y 10 como cantidad de clusters usados. "
   ]
  },
  {
   "cell_type": "code",
   "execution_count": 18,
   "metadata": {},
   "outputs": [],
   "source": [
    "from preprocessing import expandir_dataset"
   ]
  },
  {
   "cell_type": "markdown",
   "metadata": {},
   "source": [
    "Expandimos el dataset y realizamos el split del mismo en los subsets de entrenamiento y validación."
   ]
  },
  {
   "cell_type": "code",
   "execution_count": 19,
   "metadata": {},
   "outputs": [],
   "source": [
    "X_exp = expandir_dataset(X)\n",
    "X_exp_train, X_exp_test, y_exp_train, y_exp_test = train_test_split(X_exp, y, test_size=0.25, random_state=0)"
   ]
  },
  {
   "cell_type": "markdown",
   "metadata": {},
   "source": [
    "Buscamos la mejor combinación de hiperparámetros para este dataset."
   ]
  },
  {
   "cell_type": "code",
   "execution_count": 20,
   "metadata": {},
   "outputs": [
    {
     "name": "stdout",
     "output_type": "stream",
     "text": [
      "0.1\n",
      "1\n",
      "10\n",
      "0.1\n",
      "1\n",
      "10\n"
     ]
    }
   ],
   "source": [
    "mejor_combinacion = definir_mejores_hiperparametros(X_exp, y)"
   ]
  },
  {
   "cell_type": "markdown",
   "metadata": {},
   "source": [
    "A continuación, vemos la mejor combinación de hiperparámetros obtenida."
   ]
  },
  {
   "cell_type": "code",
   "execution_count": 21,
   "metadata": {},
   "outputs": [
    {
     "name": "stdout",
     "output_type": "stream",
     "text": [
      "Mejor C: 1.0\n",
      "Mejor kernel: rbf\n"
     ]
    }
   ],
   "source": [
    "parametros_svm = mejor_combinacion.loc[:].values[0]\n",
    "mejor_C = parametros_svm[0]\n",
    "mejor_kernel = parametros_svm[1]\n",
    "print(f'Mejor C: {mejor_C}')\n",
    "print(f'Mejor kernel: {mejor_kernel}')"
   ]
  },
  {
   "cell_type": "markdown",
   "metadata": {},
   "source": [
    "Debido a que es un kernel radial, buscamos el gamma que maximiza la métrica AUC-ROC"
   ]
  },
  {
   "cell_type": "code",
   "execution_count": 22,
   "metadata": {},
   "outputs": [
    {
     "name": "stdout",
     "output_type": "stream",
     "text": [
      "scale\n",
      "Score de la combinación: 0.8984524464292941\n",
      "0.0001\n",
      "Score de la combinación: 0.8812888410043369\n",
      "0.0001\n",
      "Score de la combinación: 0.8812900697935913\n",
      "0.01\n",
      "Score de la combinación: 0.9009460694226608\n",
      "0.1\n",
      "Score de la combinación: 0.8987250738051786\n",
      "  gamma    rocauc\n",
      "3  0.01  0.900946\n"
     ]
    }
   ],
   "source": [
    "mejor_parametro_rbf = definir_mejor_gamma(X, y,mejor_C,mejor_kernel)"
   ]
  },
  {
   "cell_type": "code",
   "execution_count": 23,
   "metadata": {},
   "outputs": [
    {
     "name": "stdout",
     "output_type": "stream",
     "text": [
      "Mejor gamma: 0.01\n"
     ]
    }
   ],
   "source": [
    "mejor_parametro_rbf = mejor_parametro_rbf.loc[:].values[0]\n",
    "mejor_gamma = mejor_parametro_rbf[0]\n",
    "print(f'Mejor gamma: {mejor_gamma}')"
   ]
  },
  {
   "cell_type": "markdown",
   "metadata": {},
   "source": [
    "Entrenamos Support Vector Machine con esa mejor combinación. En el caso de que esta sea con kernel polinómico, utilizamos un kernel de grado 3."
   ]
  },
  {
   "cell_type": "code",
   "execution_count": 24,
   "metadata": {},
   "outputs": [
    {
     "data": {
      "text/plain": [
       "SVC(gamma=0.01, probability=True)"
      ]
     },
     "execution_count": 24,
     "metadata": {},
     "output_type": "execute_result"
    }
   ],
   "source": [
    "svm_expandido = SVC(kernel = mejor_kernel,gamma = mejor_gamma ,C = mejor_C, probability=True)  \n",
    "    \n",
    "svm_expandido.fit(X_exp_train, y_exp_train)"
   ]
  },
  {
   "cell_type": "markdown",
   "metadata": {},
   "source": [
    "Y ahora hacemos que prediga sobre el dataset expandido. Graficamos también la curva ROC con su respectivo resultado en la métrica AUC-ROC."
   ]
  },
  {
   "cell_type": "code",
   "execution_count": 25,
   "metadata": {},
   "outputs": [
    {
     "data": {
      "image/png": "[encoded data removed]",
      "text/plain": [
       "<Figure size 1080x720 with 1 Axes>"
      ]
     },
     "metadata": {
      "needs_background": "light"
     },
     "output_type": "display_data"
    },
    {
     "name": "stdout",
     "output_type": "stream",
     "text": [
      "El valor de la metrica AUC-ROC para este modelo es: 0.8835984732866949\n"
     ]
    }
   ],
   "source": [
    "y_pred = svm_expandido.predict(X_exp_test)\n",
    "y_pred_proba = svm_expandido.predict_proba(X_exp_test)[:, 1]\n",
    "graficar_auc_roc(y_exp_test, y_pred_proba)"
   ]
  },
  {
   "cell_type": "markdown",
   "metadata": {},
   "source": [
    "Podemos ver que el AUC score dio un valor elevado. Sin embargo, este es considerablemente menor al de la predicción con el dataset original, con una diferencia de un 4% aproximadamente.\n",
    "\n",
    "A continuación, se muestra el classification report, que muestra otras métricas como precision, recall, accuracy, etc."
   ]
  },
  {
   "cell_type": "code",
   "execution_count": 26,
   "metadata": {},
   "outputs": [
    {
     "name": "stdout",
     "output_type": "stream",
     "text": [
      "                                 precision    recall  f1-score   support\n",
      "\n",
      "No Tiene Alto Valor Adquisitivo      0.867     0.961     0.911      6159\n",
      "   Tiene Alto Valor Adquisitivo      0.816     0.542     0.652      1982\n",
      "\n",
      "                       accuracy                          0.859      8141\n",
      "                      macro avg      0.841     0.751     0.781      8141\n",
      "                   weighted avg      0.855     0.859     0.848      8141\n",
      "\n"
     ]
    }
   ],
   "source": [
    "print(classification_report(y_test, y_pred, target_names=['No Tiene Alto Valor Adquisitivo', 'Tiene Alto Valor Adquisitivo'],digits=3))"
   ]
  },
  {
   "cell_type": "markdown",
   "metadata": {},
   "source": [
    "Se puede rescatar un recall alto para las instancias que no tienen alto valor adquisitivo, pero un recall regular para las instancias que si tienen alto valor adquisitivo. Esto se puede ver claramente en la siguiente matriz de confusión, donde la mayoría de los ceros reales se predijo correctamente, pero no se puede decir lo mismo sobre los unos:"
   ]
  },
  {
   "cell_type": "code",
   "execution_count": 27,
   "metadata": {},
   "outputs": [],
   "source": [
    "from funcionesAuxiliares import graficar_matriz_confusion"
   ]
  },
  {
   "cell_type": "code",
   "execution_count": 28,
   "metadata": {},
   "outputs": [
    {
     "data": {
      "image/png": "[encoded data removed]",
      "text/plain": [
       "<Figure size 600x400 with 2 Axes>"
      ]
     },
     "metadata": {
      "needs_background": "light"
     },
     "output_type": "display_data"
    }
   ],
   "source": [
    "graficar_matriz_confusion(y_exp_test, y_pred)"
   ]
  },
  {
   "cell_type": "markdown",
   "metadata": {},
   "source": [
    "## Predicción con el dataset de test holdout\n",
    "A continuación, realizamos la predicción con SVM sobre el dataset de holdout sin expandir, ya que es el que nos dio un score más alto en la métrica AUC-ROC, y la escribimos al archivo 'SVM.csv'."
   ]
  },
  {
   "cell_type": "code",
   "execution_count": 29,
   "metadata": {},
   "outputs": [],
   "source": [
    "from funcionesAuxiliares import traer_holdout\n",
    "from preprocessing import preparar_holdout\n",
    "from preprocessing import normalizar_holdout\n",
    "from funcionesAuxiliares import escribir_predicciones"
   ]
  },
  {
   "cell_type": "code",
   "execution_count": 30,
   "metadata": {},
   "outputs": [],
   "source": [
    "holdout = traer_holdout()\n",
    "ids, holdout = preparar_holdout(holdout)\n",
    "holdout = aplicar_one_hot_encoding(holdout)\n",
    "holdout = normalizar_holdout(holdout)"
   ]
  },
  {
   "cell_type": "code",
   "execution_count": 31,
   "metadata": {},
   "outputs": [],
   "source": [
    "predicciones = svm.predict(holdout)\n",
    "escribir_predicciones(ids, predicciones, \"SVM\")"
   ]
  }
 ],
 "metadata": {
  "kernelspec": {
   "display_name": "Python 3",
   "language": "python",
   "name": "python3"
  },
  "language_info": {
   "codemirror_mode": {
    "name": "ipython",
    "version": 3
   },
   "file_extension": ".py",
   "mimetype": "text/x-python",
   "name": "python",
   "nbconvert_exporter": "python",
   "pygments_lexer": "ipython3",
   "version": "3.8.5"
  }
 },
 "nbformat": 4,
 "nbformat_minor": 4
}
